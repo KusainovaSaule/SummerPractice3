{
 "cells": [
  {
   "cell_type": "markdown",
   "id": "a2963724",
   "metadata": {},
   "source": [
    "# Лабораторная работа №5: Кластеризация"
   ]
  },
  {
   "cell_type": "code",
   "execution_count": null,
   "id": "6a60eac8",
   "metadata": {},
   "outputs": [],
   "source": [
    "\n",
    "import numpy as np\n",
    "import pandas as pd\n",
    "import matplotlib.pyplot as plt\n",
    "import seaborn as sns\n",
    "\n",
    "from sklearn.datasets import make_classification, make_blobs\n",
    "from sklearn.preprocessing import StandardScaler\n",
    "from sklearn.cluster import KMeans, DBSCAN, AffinityPropagation, AgglomerativeClustering\n",
    "from sklearn.mixture import GaussianMixture\n",
    "from sklearn.metrics import silhouette_score, adjusted_rand_score, normalized_mutual_info_score, davies_bouldin_score, calinski_harabasz_score\n",
    "\n",
    "import warnings\n",
    "warnings.filterwarnings('ignore')\n"
   ]
  },
  {
   "cell_type": "code",
   "execution_count": null,
   "id": "f1d67fbc",
   "metadata": {},
   "outputs": [],
   "source": [
    "\n",
    "datasets = []\n",
    "\n",
    "for i in range(3):\n",
    "    X, y = make_classification(n_samples=300, n_features=2, n_informative=2, n_redundant=0,\n",
    "                               n_clusters_per_class=1, n_classes=i+3, random_state=42+i)\n",
    "    datasets.append((X, y))\n",
    "\n",
    "for i in range(2):\n",
    "    X, y = make_blobs(n_samples=300, centers=i+3, cluster_std=1.0, random_state=100+i)\n",
    "    datasets.append((X, y))\n",
    "\n",
    "fig, axs = plt.subplots(1, 5, figsize=(20, 4))\n",
    "for i, (X, y) in enumerate(datasets):\n",
    "    axs[i].scatter(X[:, 0], X[:, 1], c=y, cmap='Set1')\n",
    "    axs[i].set_title(f'Dataset {i+1}')\n",
    "plt.show()\n"
   ]
  },
  {
   "cell_type": "code",
   "execution_count": null,
   "id": "91880f2c",
   "metadata": {},
   "outputs": [],
   "source": [
    "\n",
    "# Убедитесь, что файл загружен в Colab\n",
    "df = pd.read_csv('/content/data_newKredit.csv')\n",
    "df_clean = df.drop(columns=['class'], errors='ignore')\n",
    "scaler = StandardScaler()\n",
    "X_real = scaler.fit_transform(df_clean)\n"
   ]
  },
  {
   "cell_type": "code",
   "execution_count": null,
   "id": "8c129ae5",
   "metadata": {},
   "outputs": [],
   "source": [
    "\n",
    "def apply_clustering(X, method, **kwargs):\n",
    "    if method == 'kmeans':\n",
    "        model = KMeans(n_clusters=3, random_state=42, **kwargs).fit(X)\n",
    "        return model.labels_\n",
    "    elif method == 'dbscan':\n",
    "        model = DBSCAN(**kwargs).fit(X)\n",
    "        return model.labels_\n",
    "    elif method == 'gmm':\n",
    "        model = GaussianMixture(n_components=3, random_state=42).fit(X)\n",
    "        return model.predict(X)\n",
    "    elif method == 'affinity':\n",
    "        model = AffinityPropagation(**kwargs).fit(X)\n",
    "        return model.labels_\n",
    "    elif method == 'agglomerative':\n",
    "        model = AgglomerativeClustering(n_clusters=3).fit(X)\n",
    "        return model.labels_\n"
   ]
  },
  {
   "cell_type": "code",
   "execution_count": null,
   "id": "4f1c4b4e",
   "metadata": {},
   "outputs": [],
   "source": [
    "\n",
    "X, _ = datasets[0]\n",
    "inertias = []\n",
    "silhouettes = []\n",
    "\n",
    "for k in range(2, 10):\n",
    "    model = KMeans(n_clusters=k, random_state=42).fit(X)\n",
    "    inertias.append(model.inertia_)\n",
    "    silhouettes.append(silhouette_score(X, model.labels_))\n",
    "\n",
    "plt.figure(figsize=(12, 4))\n",
    "plt.subplot(1, 2, 1)\n",
    "plt.plot(range(2, 10), inertias, marker='o')\n",
    "plt.title('Метод локтя')\n",
    "plt.xlabel('k'); plt.ylabel('Inertia')\n",
    "\n",
    "plt.subplot(1, 2, 2)\n",
    "plt.plot(range(2, 10), silhouettes, marker='o')\n",
    "plt.title('Метод силуэта')\n",
    "plt.xlabel('k'); plt.ylabel('Silhouette Score')\n",
    "plt.show()\n"
   ]
  },
  {
   "cell_type": "code",
   "execution_count": null,
   "id": "4869c4e0",
   "metadata": {},
   "outputs": [],
   "source": [
    "\n",
    "def evaluate_clustering(X, labels, true_labels=None):\n",
    "    result = {}\n",
    "    result['Silhouette'] = silhouette_score(X, labels)\n",
    "    result['Davies-Bouldin'] = davies_bouldin_score(X, labels)\n",
    "    result['Calinski-Harabasz'] = calinski_harabasz_score(X, labels)\n",
    "    if true_labels is not None:\n",
    "        result['Adjusted Rand'] = adjusted_rand_score(true_labels, labels)\n",
    "        result['NMI'] = normalized_mutual_info_score(true_labels, labels)\n",
    "    return result\n"
   ]
  },
  {
   "cell_type": "code",
   "execution_count": null,
   "id": "0d5d8e2c",
   "metadata": {},
   "outputs": [],
   "source": [
    "\n",
    "labels_real = KMeans(n_clusters=3, random_state=42).fit_predict(X_real)\n",
    "df_clean['Cluster'] = labels_real\n",
    "df_clean.groupby('Cluster').mean()\n"
   ]
  },
  {
   "cell_type": "code",
   "execution_count": null,
   "id": "4b0ad406",
   "metadata": {},
   "outputs": [],
   "source": [
    "\n",
    "class MyKMeans:\n",
    "    def __init__(self, n_clusters=3, max_iter=300, tol=1e-4, random_state=None):\n",
    "        self.n_clusters = n_clusters\n",
    "        self.max_iter = max_iter\n",
    "        self.tol = tol\n",
    "        self.random_state = random_state\n",
    "\n",
    "    def fit(self, X):\n",
    "        np.random.seed(self.random_state)\n",
    "        n_samples, n_features = X.shape\n",
    "        initial_idx = np.random.choice(n_samples, self.n_clusters, replace=False)\n",
    "        self.centroids_ = X[initial_idx]\n",
    "\n",
    "        for _ in range(self.max_iter):\n",
    "            distances = np.linalg.norm(X[:, np.newaxis] - self.centroids_, axis=2)\n",
    "            labels = np.argmin(distances, axis=1)\n",
    "            new_centroids = np.array([X[labels == j].mean(axis=0) for j in range(self.n_clusters)])\n",
    "            if np.linalg.norm(self.centroids_ - new_centroids) < self.tol:\n",
    "                break\n",
    "            self.centroids_ = new_centroids\n",
    "\n",
    "        self.labels_ = labels\n",
    "        self.inertia_ = np.sum((X - self.centroids_[labels]) ** 2)\n",
    "\n",
    "    def predict(self, X):\n",
    "        distances = np.linalg.norm(X[:, np.newaxis] - self.centroids_, axis=2)\n",
    "        return np.argmin(distances, axis=1)\n"
   ]
  },
  {
   "cell_type": "code",
   "execution_count": null,
   "id": "d390d266",
   "metadata": {},
   "outputs": [],
   "source": [
    "\n",
    "my_kmeans = MyKMeans(n_clusters=3, random_state=42)\n",
    "my_kmeans.fit(X_real)\n",
    "\n",
    "plt.scatter(X_real[:, 0], X_real[:, 1], c=my_kmeans.labels_, cmap='Set1')\n",
    "plt.scatter(my_kmeans.centroids_[:, 0], my_kmeans.centroids_[:, 1], c='black', marker='x', s=100)\n",
    "plt.title(\"Собственная реализация K-Means\")\n",
    "plt.show()\n",
    "\n",
    "print(f\"Inertia: {my_kmeans.inertia_}\")\n"
   ]
  }
 ],
 "metadata": {},
 "nbformat": 4,
 "nbformat_minor": 5
}