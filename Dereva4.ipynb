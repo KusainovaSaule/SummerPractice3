{
 "cells": [
  {
   "cell_type": "markdown",
   "id": "7fe87d5e-138b-4d98-ac81-eedbf7d8d1b6",
   "metadata": {},
   "source": [
    "# Загрузка необходимых библиотек"
   ]
  },
  {
   "cell_type": "code",
   "execution_count": 15,
   "id": "0c0965e9-6826-481e-ad66-afc951312f86",
   "metadata": {},
   "outputs": [
    {
     "name": "stdout",
     "output_type": "stream",
     "text": [
      "Requirement already satisfied: optuna in c:\\users\\wishenka\\machine_learning\\venv\\lib\\site-packages (4.3.0)\n",
      "Requirement already satisfied: alembic>=1.5.0 in c:\\users\\wishenka\\machine_learning\\venv\\lib\\site-packages (from optuna) (1.15.2)\n",
      "Requirement already satisfied: colorlog in c:\\users\\wishenka\\machine_learning\\venv\\lib\\site-packages (from optuna) (6.9.0)\n",
      "Requirement already satisfied: numpy in c:\\users\\wishenka\\machine_learning\\venv\\lib\\site-packages (from optuna) (1.26.0)\n",
      "Requirement already satisfied: packaging>=20.0 in c:\\users\\wishenka\\machine_learning\\venv\\lib\\site-packages (from optuna) (25.0)\n",
      "Requirement already satisfied: sqlalchemy>=1.4.2 in c:\\users\\wishenka\\machine_learning\\venv\\lib\\site-packages (from optuna) (2.0.40)\n",
      "Requirement already satisfied: tqdm in c:\\users\\wishenka\\machine_learning\\venv\\lib\\site-packages (from optuna) (4.67.1)\n",
      "Requirement already satisfied: PyYAML in c:\\users\\wishenka\\machine_learning\\venv\\lib\\site-packages (from optuna) (6.0.2)\n",
      "Requirement already satisfied: Mako in c:\\users\\wishenka\\machine_learning\\venv\\lib\\site-packages (from alembic>=1.5.0->optuna) (1.3.10)\n",
      "Requirement already satisfied: typing-extensions>=4.12 in c:\\users\\wishenka\\machine_learning\\venv\\lib\\site-packages (from alembic>=1.5.0->optuna) (4.13.2)\n",
      "Requirement already satisfied: greenlet>=1 in c:\\users\\wishenka\\machine_learning\\venv\\lib\\site-packages (from sqlalchemy>=1.4.2->optuna) (3.2.1)\n",
      "Requirement already satisfied: colorama in c:\\users\\wishenka\\machine_learning\\venv\\lib\\site-packages (from colorlog->optuna) (0.4.6)\n",
      "Requirement already satisfied: MarkupSafe>=0.9.2 in c:\\users\\wishenka\\machine_learning\\venv\\lib\\site-packages (from Mako->alembic>=1.5.0->optuna) (3.0.2)\n",
      "Note: you may need to restart the kernel to use updated packages.\n"
     ]
    },
    {
     "name": "stderr",
     "output_type": "stream",
     "text": [
      "WARNING: There was an error checking the latest version of pip.\n"
     ]
    }
   ],
   "source": [
    "pip install optuna"
   ]
  },
  {
   "cell_type": "code",
   "execution_count": 16,
   "id": "d403e24c-7d18-4ee7-a870-4db16e39cfd8",
   "metadata": {},
   "outputs": [
    {
     "data": {
      "text/plain": [
       "0"
      ]
     },
     "execution_count": 16,
     "metadata": {},
     "output_type": "execute_result"
    }
   ],
   "source": [
    "import gc\n",
    "gc.collect()"
   ]
  },
  {
   "cell_type": "code",
   "execution_count": 17,
   "id": "c2b7e549-305a-4e80-97cc-ee36407783fd",
   "metadata": {},
   "outputs": [
    {
     "name": "stdout",
     "output_type": "stream",
     "text": [
      "Доступно RAM: 0.81 GB\n"
     ]
    }
   ],
   "source": [
    "import psutil\n",
    "print(f\"Доступно RAM: {psutil.virtual_memory().available / (1024 ** 3):.2f} GB\")"
   ]
  },
  {
   "cell_type": "code",
   "execution_count": 18,
   "id": "b080ce9d-f0df-4f4c-a9a0-b87ba945ef40",
   "metadata": {},
   "outputs": [
    {
     "name": "stdout",
     "output_type": "stream",
     "text": [
      "Requirement already satisfied: xgboost in c:\\users\\wishenka\\machine_learning\\venv\\lib\\site-packages (3.0.0)\n",
      "Requirement already satisfied: numpy in c:\\users\\wishenka\\machine_learning\\venv\\lib\\site-packages (from xgboost) (1.26.0)\n",
      "Requirement already satisfied: scipy in c:\\users\\wishenka\\machine_learning\\venv\\lib\\site-packages (from xgboost) (1.11.4)\n"
     ]
    },
    {
     "name": "stderr",
     "output_type": "stream",
     "text": [
      "WARNING: There was an error checking the latest version of pip.\n"
     ]
    }
   ],
   "source": [
    "!pip install xgboost"
   ]
  },
  {
   "cell_type": "code",
   "execution_count": 19,
   "id": "24c576ad-fab9-4069-bd67-9c848154960f",
   "metadata": {},
   "outputs": [],
   "source": [
    "from xgboost import XGBClassifier"
   ]
  },
  {
   "cell_type": "code",
   "execution_count": 20,
   "id": "3004a756-ff9d-4f3a-b8f7-1e7bb8e022de",
   "metadata": {},
   "outputs": [],
   "source": [
    "from sklearn.metrics import classification_report\n",
    "from sklearn.ensemble import BaggingClassifier"
   ]
  },
  {
   "cell_type": "code",
   "execution_count": 21,
   "id": "199b9bef-74c2-48ef-b4bb-13472cd4b9c6",
   "metadata": {},
   "outputs": [],
   "source": [
    "import pandas as pd\n",
    "import numpy as np\n",
    "from pycaret.regression import *\n",
    "from sklearn.model_selection import train_test_split, KFold\n",
    "from sklearn.model_selection import train_test_split, KFold, StratifiedKFold\n",
    "from collections import Counter\n",
    "from imblearn.over_sampling import SMOTE\n",
    "from sklearn.ensemble import RandomForestClassifier\n",
    "from sklearn.metrics import accuracy_score, precision_score, recall_score, f1_score\n",
    "from sklearn.ensemble import RandomForestRegressor\n",
    "from sklearn.metrics import mean_squared_error, mean_absolute_error, r2_score\n",
    "from sklearn.model_selection import train_test_split\n",
    "from sklearn.model_selection import GridSearchCV\n",
    "from sklearn.tree import DecisionTreeClassifier\n",
    "from sklearn.model_selection import RandomizedSearchCV\n",
    "from scipy.stats import randint, uniform\n",
    "import optuna\n",
    "from sklearn.model_selection import cross_val_score\n",
    "import matplotlib.pyplot as plt\n",
    "from sklearn.tree import plot_tree\n",
    "from sklearn.tree import export_text\n",
    "from sklearn.metrics import mean_squared_error, mean_absolute_error, r2_score, mean_absolute_percentage_error"
   ]
  },
  {
   "cell_type": "code",
   "execution_count": 22,
   "id": "e7b4a535-2192-4289-a871-0aa2c1272c3e",
   "metadata": {},
   "outputs": [],
   "source": [
    "from pycaret.classification import *"
   ]
  },
  {
   "cell_type": "code",
   "execution_count": 23,
   "id": "8403776b-bf87-4f74-a975-8c83a3681e61",
   "metadata": {},
   "outputs": [
    {
     "name": "stdout",
     "output_type": "stream",
     "text": [
      "Requirement already satisfied: catboost in c:\\users\\wishenka\\machine_learning\\venv\\lib\\site-packages (1.2.8)\n",
      "Requirement already satisfied: graphviz in c:\\users\\wishenka\\machine_learning\\venv\\lib\\site-packages (from catboost) (0.20.3)\n",
      "Requirement already satisfied: matplotlib in c:\\users\\wishenka\\machine_learning\\venv\\lib\\site-packages (from catboost) (3.7.5)\n",
      "Requirement already satisfied: numpy<3.0,>=1.16.0 in c:\\users\\wishenka\\machine_learning\\venv\\lib\\site-packages (from catboost) (1.26.0)\n",
      "Requirement already satisfied: pandas>=0.24 in c:\\users\\wishenka\\machine_learning\\venv\\lib\\site-packages (from catboost) (2.1.4)\n",
      "Requirement already satisfied: scipy in c:\\users\\wishenka\\machine_learning\\venv\\lib\\site-packages (from catboost) (1.11.4)\n",
      "Requirement already satisfied: plotly in c:\\users\\wishenka\\machine_learning\\venv\\lib\\site-packages (from catboost) (5.24.1)\n",
      "Requirement already satisfied: six in c:\\users\\wishenka\\machine_learning\\venv\\lib\\site-packages (from catboost) (1.17.0)\n",
      "Requirement already satisfied: python-dateutil>=2.8.2 in c:\\users\\wishenka\\machine_learning\\venv\\lib\\site-packages (from pandas>=0.24->catboost) (2.9.0.post0)\n",
      "Requirement already satisfied: pytz>=2020.1 in c:\\users\\wishenka\\machine_learning\\venv\\lib\\site-packages (from pandas>=0.24->catboost) (2025.2)\n",
      "Requirement already satisfied: tzdata>=2022.1 in c:\\users\\wishenka\\machine_learning\\venv\\lib\\site-packages (from pandas>=0.24->catboost) (2025.2)\n",
      "Requirement already satisfied: contourpy>=1.0.1 in c:\\users\\wishenka\\machine_learning\\venv\\lib\\site-packages (from matplotlib->catboost) (1.3.2)\n",
      "Requirement already satisfied: cycler>=0.10 in c:\\users\\wishenka\\machine_learning\\venv\\lib\\site-packages (from matplotlib->catboost) (0.12.1)\n",
      "Requirement already satisfied: fonttools>=4.22.0 in c:\\users\\wishenka\\machine_learning\\venv\\lib\\site-packages (from matplotlib->catboost) (4.57.0)\n",
      "Requirement already satisfied: kiwisolver>=1.0.1 in c:\\users\\wishenka\\machine_learning\\venv\\lib\\site-packages (from matplotlib->catboost) (1.4.8)\n",
      "Requirement already satisfied: packaging>=20.0 in c:\\users\\wishenka\\machine_learning\\venv\\lib\\site-packages (from matplotlib->catboost) (25.0)\n",
      "Requirement already satisfied: pillow>=6.2.0 in c:\\users\\wishenka\\machine_learning\\venv\\lib\\site-packages (from matplotlib->catboost) (11.2.1)\n",
      "Requirement already satisfied: pyparsing>=2.3.1 in c:\\users\\wishenka\\machine_learning\\venv\\lib\\site-packages (from matplotlib->catboost) (3.2.3)\n",
      "Requirement already satisfied: tenacity>=6.2.0 in c:\\users\\wishenka\\machine_learning\\venv\\lib\\site-packages (from plotly->catboost) (9.1.2)\n"
     ]
    },
    {
     "name": "stderr",
     "output_type": "stream",
     "text": [
      "WARNING: There was an error checking the latest version of pip.\n"
     ]
    }
   ],
   "source": [
    "!pip install catboost"
   ]
  },
  {
   "cell_type": "markdown",
   "id": "33e2a6c5-0dfa-4fa7-97a9-2a63125817b6",
   "metadata": {},
   "source": [
    "# Загрузка и подготовка данных. \n",
    "- В соответствии с индивидуальным вариантом загрузите предобработан\n",
    "ные датасеты в формате CSV для решения задачи регрессии и классификации. \n",
    "- При разделении данных на обучающую и тестовую выборки используйте \n",
    "два метода с соответствующими параметрами: hold-out и k-fold."
   ]
  },
  {
   "cell_type": "code",
   "execution_count": 24,
   "id": "7964f427-19af-409f-b040-78b26c6b72c2",
   "metadata": {},
   "outputs": [],
   "source": [
    "kredit_data = pd.read_csv('data_filter3.csv')\n",
    "kredit_data = kredit_data.drop(columns=[\"protection\", \"unprotected_online_order\"])"
   ]
  },
  {
   "cell_type": "code",
   "execution_count": 25,
   "id": "8e05a0d3-e0a7-447c-be29-a16c216003ed",
   "metadata": {},
   "outputs": [],
   "source": [
    "house_data = pd.read_csv('data_new.csv')\n",
    "district_rank = {\n",
    "    \"Federal Way\": 1,      #самый дешёвый (289384.88)\n",
    "    \"Auburn\": 2,\n",
    "    \"Kent\": 3,\n",
    "    \"Enumclaw\": 4,\n",
    "    \"Maple Valley\": 5,\n",
    "    \"Renton\": 6,\n",
    "    \"Black Diamond\": 7,\n",
    "    \"Duvall\": 8,\n",
    "    \"North Bend\": 9,\n",
    "    \"Carnation\": 10,\n",
    "    \"Kenmore\": 11,\n",
    "    \"Vashon\": 12,\n",
    "    \"Bothell\": 13,\n",
    "    \"Snoqualmie\": 14,\n",
    "    \"Seattle\": 15,\n",
    "    \"Fall City\": 16,\n",
    "    \"Issaquah\": 17,\n",
    "    \"Woodinville\": 18,\n",
    "    \"Kirkland\": 19,\n",
    "    \"Redmond\": 20,\n",
    "    \"Sammamish\": 21,\n",
    "    \"Bellevue\": 22,\n",
    "    \"Mercer Island\": 23,\n",
    "    \"Medina\": 24           #самый дорогой (2160606.60)\n",
    "}\n",
    "\n",
    "house_data['district_code'] = house_data['district'].map(district_rank)\n",
    "house_data.drop('district', axis=1, inplace=True)\n",
    "house_data['district_code'] = house_data['district_code'].astype(int)"
   ]
  },
  {
   "cell_type": "code",
   "execution_count": 26,
   "id": "503ec5ca-f26a-4dfc-b60f-0d650b833b5f",
   "metadata": {},
   "outputs": [
    {
     "data": {
      "text/html": [
       "<div>\n",
       "<style scoped>\n",
       "    .dataframe tbody tr th:only-of-type {\n",
       "        vertical-align: middle;\n",
       "    }\n",
       "\n",
       "    .dataframe tbody tr th {\n",
       "        vertical-align: top;\n",
       "    }\n",
       "\n",
       "    .dataframe thead th {\n",
       "        text-align: right;\n",
       "    }\n",
       "</style>\n",
       "<table border=\"1\" class=\"dataframe\">\n",
       "  <thead>\n",
       "    <tr style=\"text-align: right;\">\n",
       "      <th></th>\n",
       "      <th>distance_from_home</th>\n",
       "      <th>distance_from_last_transaction</th>\n",
       "      <th>ratio_to_median_purchase_price</th>\n",
       "      <th>repeat_retailer</th>\n",
       "      <th>used_chip</th>\n",
       "      <th>used_pin_number</th>\n",
       "      <th>online_order</th>\n",
       "      <th>fraud</th>\n",
       "    </tr>\n",
       "  </thead>\n",
       "  <tbody>\n",
       "    <tr>\n",
       "      <th>0</th>\n",
       "      <td>57.877857</td>\n",
       "      <td>0.311140</td>\n",
       "      <td>1.945940</td>\n",
       "      <td>1</td>\n",
       "      <td>1</td>\n",
       "      <td>0</td>\n",
       "      <td>0</td>\n",
       "      <td>0</td>\n",
       "    </tr>\n",
       "    <tr>\n",
       "      <th>1</th>\n",
       "      <td>10.829943</td>\n",
       "      <td>0.175592</td>\n",
       "      <td>1.294219</td>\n",
       "      <td>1</td>\n",
       "      <td>0</td>\n",
       "      <td>0</td>\n",
       "      <td>0</td>\n",
       "      <td>0</td>\n",
       "    </tr>\n",
       "    <tr>\n",
       "      <th>2</th>\n",
       "      <td>5.091079</td>\n",
       "      <td>0.805153</td>\n",
       "      <td>0.427715</td>\n",
       "      <td>1</td>\n",
       "      <td>0</td>\n",
       "      <td>0</td>\n",
       "      <td>1</td>\n",
       "      <td>0</td>\n",
       "    </tr>\n",
       "    <tr>\n",
       "      <th>3</th>\n",
       "      <td>2.247564</td>\n",
       "      <td>5.600044</td>\n",
       "      <td>0.362663</td>\n",
       "      <td>1</td>\n",
       "      <td>1</td>\n",
       "      <td>0</td>\n",
       "      <td>1</td>\n",
       "      <td>0</td>\n",
       "    </tr>\n",
       "    <tr>\n",
       "      <th>4</th>\n",
       "      <td>44.190936</td>\n",
       "      <td>0.566486</td>\n",
       "      <td>2.222767</td>\n",
       "      <td>1</td>\n",
       "      <td>1</td>\n",
       "      <td>0</td>\n",
       "      <td>1</td>\n",
       "      <td>0</td>\n",
       "    </tr>\n",
       "  </tbody>\n",
       "</table>\n",
       "</div>"
      ],
      "text/plain": [
       "   distance_from_home  distance_from_last_transaction  \\\n",
       "0           57.877857                        0.311140   \n",
       "1           10.829943                        0.175592   \n",
       "2            5.091079                        0.805153   \n",
       "3            2.247564                        5.600044   \n",
       "4           44.190936                        0.566486   \n",
       "\n",
       "   ratio_to_median_purchase_price  repeat_retailer  used_chip  \\\n",
       "0                        1.945940                1          1   \n",
       "1                        1.294219                1          0   \n",
       "2                        0.427715                1          0   \n",
       "3                        0.362663                1          1   \n",
       "4                        2.222767                1          1   \n",
       "\n",
       "   used_pin_number  online_order  fraud  \n",
       "0                0             0      0  \n",
       "1                0             0      0  \n",
       "2                0             1      0  \n",
       "3                0             1      0  \n",
       "4                0             1      0  "
      ]
     },
     "execution_count": 26,
     "metadata": {},
     "output_type": "execute_result"
    }
   ],
   "source": [
    "kredit_data.head()"
   ]
  },
  {
   "cell_type": "code",
   "execution_count": 27,
   "id": "fdd8a7a3-c0cf-49b6-969f-0096bbe7ca2b",
   "metadata": {},
   "outputs": [],
   "source": [
    "data_new=kredit_data.copy()\n",
    "data_new.to_csv(\"data_newKredit.csv\", index=False)"
   ]
  },
  {
   "cell_type": "code",
   "execution_count": 28,
   "id": "b999724f-8cb4-40f7-ae7a-4fbf83f78336",
   "metadata": {},
   "outputs": [
    {
     "data": {
      "text/html": [
       "<div>\n",
       "<style scoped>\n",
       "    .dataframe tbody tr th:only-of-type {\n",
       "        vertical-align: middle;\n",
       "    }\n",
       "\n",
       "    .dataframe tbody tr th {\n",
       "        vertical-align: top;\n",
       "    }\n",
       "\n",
       "    .dataframe thead th {\n",
       "        text-align: right;\n",
       "    }\n",
       "</style>\n",
       "<table border=\"1\" class=\"dataframe\">\n",
       "  <thead>\n",
       "    <tr style=\"text-align: right;\">\n",
       "      <th></th>\n",
       "      <th>price</th>\n",
       "      <th>bedrooms</th>\n",
       "      <th>bathrooms</th>\n",
       "      <th>sqft_living</th>\n",
       "      <th>sqft_lot</th>\n",
       "      <th>floors</th>\n",
       "      <th>waterfront</th>\n",
       "      <th>view</th>\n",
       "      <th>condition</th>\n",
       "      <th>grade</th>\n",
       "      <th>...</th>\n",
       "      <th>long</th>\n",
       "      <th>sqft_living15</th>\n",
       "      <th>sqft_lot15</th>\n",
       "      <th>year_sale</th>\n",
       "      <th>age</th>\n",
       "      <th>age_renovated</th>\n",
       "      <th>lat_center</th>\n",
       "      <th>long_center</th>\n",
       "      <th>distance_to_center</th>\n",
       "      <th>district_code</th>\n",
       "    </tr>\n",
       "  </thead>\n",
       "  <tbody>\n",
       "    <tr>\n",
       "      <th>0</th>\n",
       "      <td>221900</td>\n",
       "      <td>3</td>\n",
       "      <td>1.00</td>\n",
       "      <td>1180</td>\n",
       "      <td>5650</td>\n",
       "      <td>1.0</td>\n",
       "      <td>0</td>\n",
       "      <td>0</td>\n",
       "      <td>3</td>\n",
       "      <td>7</td>\n",
       "      <td>...</td>\n",
       "      <td>-122.257</td>\n",
       "      <td>1340</td>\n",
       "      <td>5650</td>\n",
       "      <td>2014</td>\n",
       "      <td>60</td>\n",
       "      <td>60</td>\n",
       "      <td>47.6062</td>\n",
       "      <td>-122.3321</td>\n",
       "      <td>11.98</td>\n",
       "      <td>15</td>\n",
       "    </tr>\n",
       "    <tr>\n",
       "      <th>1</th>\n",
       "      <td>538000</td>\n",
       "      <td>3</td>\n",
       "      <td>2.25</td>\n",
       "      <td>2570</td>\n",
       "      <td>7242</td>\n",
       "      <td>2.0</td>\n",
       "      <td>0</td>\n",
       "      <td>0</td>\n",
       "      <td>3</td>\n",
       "      <td>7</td>\n",
       "      <td>...</td>\n",
       "      <td>-122.319</td>\n",
       "      <td>1690</td>\n",
       "      <td>7639</td>\n",
       "      <td>2014</td>\n",
       "      <td>64</td>\n",
       "      <td>24</td>\n",
       "      <td>47.6062</td>\n",
       "      <td>-122.3321</td>\n",
       "      <td>12.80</td>\n",
       "      <td>15</td>\n",
       "    </tr>\n",
       "    <tr>\n",
       "      <th>2</th>\n",
       "      <td>180000</td>\n",
       "      <td>2</td>\n",
       "      <td>1.00</td>\n",
       "      <td>770</td>\n",
       "      <td>10000</td>\n",
       "      <td>1.0</td>\n",
       "      <td>0</td>\n",
       "      <td>0</td>\n",
       "      <td>3</td>\n",
       "      <td>6</td>\n",
       "      <td>...</td>\n",
       "      <td>-122.233</td>\n",
       "      <td>2720</td>\n",
       "      <td>8062</td>\n",
       "      <td>2015</td>\n",
       "      <td>83</td>\n",
       "      <td>83</td>\n",
       "      <td>47.7573</td>\n",
       "      <td>-122.2440</td>\n",
       "      <td>2.31</td>\n",
       "      <td>11</td>\n",
       "    </tr>\n",
       "    <tr>\n",
       "      <th>3</th>\n",
       "      <td>604000</td>\n",
       "      <td>4</td>\n",
       "      <td>3.00</td>\n",
       "      <td>1960</td>\n",
       "      <td>5000</td>\n",
       "      <td>1.0</td>\n",
       "      <td>0</td>\n",
       "      <td>0</td>\n",
       "      <td>5</td>\n",
       "      <td>7</td>\n",
       "      <td>...</td>\n",
       "      <td>-122.393</td>\n",
       "      <td>1360</td>\n",
       "      <td>5000</td>\n",
       "      <td>2014</td>\n",
       "      <td>50</td>\n",
       "      <td>50</td>\n",
       "      <td>47.6062</td>\n",
       "      <td>-122.3321</td>\n",
       "      <td>10.54</td>\n",
       "      <td>15</td>\n",
       "    </tr>\n",
       "    <tr>\n",
       "      <th>4</th>\n",
       "      <td>510000</td>\n",
       "      <td>3</td>\n",
       "      <td>2.00</td>\n",
       "      <td>1680</td>\n",
       "      <td>8080</td>\n",
       "      <td>1.0</td>\n",
       "      <td>0</td>\n",
       "      <td>0</td>\n",
       "      <td>3</td>\n",
       "      <td>8</td>\n",
       "      <td>...</td>\n",
       "      <td>-122.045</td>\n",
       "      <td>1800</td>\n",
       "      <td>7503</td>\n",
       "      <td>2015</td>\n",
       "      <td>29</td>\n",
       "      <td>29</td>\n",
       "      <td>47.6163</td>\n",
       "      <td>-122.0356</td>\n",
       "      <td>0.71</td>\n",
       "      <td>21</td>\n",
       "    </tr>\n",
       "  </tbody>\n",
       "</table>\n",
       "<p>5 rows × 24 columns</p>\n",
       "</div>"
      ],
      "text/plain": [
       "    price  bedrooms  bathrooms  sqft_living  sqft_lot  floors  waterfront  \\\n",
       "0  221900         3       1.00         1180      5650     1.0           0   \n",
       "1  538000         3       2.25         2570      7242     2.0           0   \n",
       "2  180000         2       1.00          770     10000     1.0           0   \n",
       "3  604000         4       3.00         1960      5000     1.0           0   \n",
       "4  510000         3       2.00         1680      8080     1.0           0   \n",
       "\n",
       "   view  condition  grade  ...     long  sqft_living15  sqft_lot15  year_sale  \\\n",
       "0     0          3      7  ... -122.257           1340        5650       2014   \n",
       "1     0          3      7  ... -122.319           1690        7639       2014   \n",
       "2     0          3      6  ... -122.233           2720        8062       2015   \n",
       "3     0          5      7  ... -122.393           1360        5000       2014   \n",
       "4     0          3      8  ... -122.045           1800        7503       2015   \n",
       "\n",
       "   age  age_renovated  lat_center  long_center  distance_to_center  \\\n",
       "0   60             60     47.6062    -122.3321               11.98   \n",
       "1   64             24     47.6062    -122.3321               12.80   \n",
       "2   83             83     47.7573    -122.2440                2.31   \n",
       "3   50             50     47.6062    -122.3321               10.54   \n",
       "4   29             29     47.6163    -122.0356                0.71   \n",
       "\n",
       "   district_code  \n",
       "0             15  \n",
       "1             15  \n",
       "2             11  \n",
       "3             15  \n",
       "4             21  \n",
       "\n",
       "[5 rows x 24 columns]"
      ]
     },
     "execution_count": 28,
     "metadata": {},
     "output_type": "execute_result"
    }
   ],
   "source": [
    "house_data.head()"
   ]
  },
  {
   "cell_type": "markdown",
   "id": "6cf4e82e-13b6-444b-8d31-026c1beccc39",
   "metadata": {},
   "source": [
    "## Разделение данных на обучающую и тестовые выборки"
   ]
  },
  {
   "cell_type": "markdown",
   "id": "59ecf7e5-4c8f-4d35-9a72-e6eb77c5d7bd",
   "metadata": {},
   "source": [
    "### KreditCard (классификация)"
   ]
  },
  {
   "cell_type": "code",
   "execution_count": 29,
   "id": "98b3b06a-bc59-4575-b77f-db18b6db0b39",
   "metadata": {},
   "outputs": [
    {
     "name": "stdout",
     "output_type": "stream",
     "text": [
      "Исходное распределение классов: Counter({0: 912597, 1: 87403})\n"
     ]
    }
   ],
   "source": [
    "X_clf = kredit_data.drop('fraud', axis=1)\n",
    "y_clf = kredit_data['fraud']\n",
    "print(\"Исходное распределение классов:\", Counter(y_clf))"
   ]
  },
  {
   "cell_type": "code",
   "execution_count": 30,
   "id": "fbb8702d-b4d8-494c-8410-1a0dff1e78a7",
   "metadata": {},
   "outputs": [],
   "source": [
    "# Hold-out разделение (20% тест)\n",
    "X_train_clf, X_test_clf, y_train_clf, y_test_clf = train_test_split(\n",
    "    X_clf, y_clf,\n",
    "    test_size=0.2,          # 20% в тест\n",
    "    random_state=42,\n",
    "    stratify=y_clf\n",
    ")"
   ]
  },
  {
   "cell_type": "code",
   "execution_count": 31,
   "id": "25c0fa26-fe63-4c31-bc88-4fd4a50d6866",
   "metadata": {},
   "outputs": [
    {
     "name": "stdout",
     "output_type": "stream",
     "text": [
      "Train распределение: Counter({0: 730078, 1: 69922})\n",
      "Test распределение: Counter({0: 182519, 1: 17481})\n"
     ]
    }
   ],
   "source": [
    "print(\"Train распределение:\", Counter(y_train_clf))\n",
    "print(\"Test распределение:\", Counter(y_test_clf))"
   ]
  },
  {
   "cell_type": "code",
   "execution_count": 32,
   "id": "e89c1ac4-66a0-401e-ae4c-9e47dcce9a59",
   "metadata": {},
   "outputs": [],
   "source": [
    "X_train_clf = X_train_clf.reset_index(drop=True)\n",
    "y_train_clf = y_train_clf.reset_index(drop=True)"
   ]
  },
  {
   "cell_type": "code",
   "execution_count": 33,
   "id": "b905ab49-ad56-4da4-b1eb-32893f6cf280",
   "metadata": {},
   "outputs": [
    {
     "name": "stdout",
     "output_type": "stream",
     "text": [
      "Counter({0: 730078, 1: 69922})\n",
      "Counter({'distance_from_home': 1, 'distance_from_last_transaction': 1, 'ratio_to_median_purchase_price': 1, 'repeat_retailer': 1, 'used_chip': 1, 'used_pin_number': 1, 'online_order': 1})\n"
     ]
    }
   ],
   "source": [
    "print(Counter(y_train_clf))\n",
    "print(Counter(X_train_clf))"
   ]
  },
  {
   "cell_type": "code",
   "execution_count": null,
   "id": "fba4cac8-b3dc-4f5b-afcb-ae0cfeb8c94f",
   "metadata": {},
   "outputs": [
    {
     "name": "stdout",
     "output_type": "stream",
     "text": [
      "\n",
      "Fold 1:\n",
      "После балансировки: Counter({0: 584062, 1: 584062})\n"
     ]
    }
   ],
   "source": [
    "# KFold\n",
    "clf = RandomForestClassifier(\n",
    "    n_estimators=200,\n",
    "    max_depth=10,\n",
    "    min_samples_leaf=5,\n",
    "    class_weight='balanced',\n",
    "    random_state=42,\n",
    "    n_jobs=-1\n",
    ")\n",
    "\n",
    "# Для хранения метрик\n",
    "accuracy_scores = []\n",
    "precision_scores = []\n",
    "recall_scores = []\n",
    "f1_scores = []\n",
    "\n",
    "skf = StratifiedKFold(n_splits=5, shuffle=True, random_state=42)\n",
    "\n",
    "for fold, (train_idx, val_idx) in enumerate(skf.split(X_train_clf, y_train_clf)):\n",
    "    print(f\"\\nFold {fold + 1}:\")\n",
    "\n",
    "    # 1. Разделение\n",
    "    X_fold_train = X_train_clf.iloc[train_idx]\n",
    "    y_fold_train = y_train_clf.iloc[train_idx]\n",
    "    X_fold_val = X_train_clf.iloc[val_idx]\n",
    "    y_fold_val = y_train_clf.iloc[val_idx]\n",
    "\n",
    "    # 2. Балансировка\n",
    "    smote = SMOTE(sampling_strategy=1.0, random_state=42)\n",
    "    X_balanced, y_balanced = smote.fit_resample(X_fold_train, y_fold_train)\n",
    "\n",
    "    print(\"После балансировки:\", Counter(y_balanced))\n",
    "\n",
    "    # 3. Обучение модели\n",
    "    clf.fit(X_balanced, y_balanced)\n",
    "\n",
    "    # 4. Предсказание и метрики\n",
    "    y_pred = clf.predict(X_fold_val)\n",
    "    acc = accuracy_score(y_fold_val, y_pred)\n",
    "    prec = precision_score(y_fold_val, y_pred)\n",
    "    rec = recall_score(y_fold_val, y_pred)\n",
    "    f1 = f1_score(y_fold_val, y_pred)\n",
    "\n",
    "    print(f\"Accuracy: {acc:.4f}, Precision: {prec:.4f}, Recall: {rec:.4f}, F1: {f1:.4f}\")\n",
    "\n",
    "    accuracy_scores.append(acc)\n",
    "    precision_scores.append(prec)\n",
    "    recall_scores.append(rec)\n",
    "    f1_scores.append(f1)\n",
    "\n",
    "# 5. Средние метрики по всем фолдам\n",
    "print(\"\\nСредние метрики по кросс-валидации:\")\n",
    "print(f\"Accuracy: {np.mean(accuracy_scores):.4f}\")\n",
    "print(f\"Precision: {np.mean(precision_scores):.4f}\")\n",
    "print(f\"Recall: {np.mean(recall_scores):.4f}\")\n",
    "print(f\"F1: {np.mean(f1_scores):.4f}\")"
   ]
  },
  {
   "cell_type": "markdown",
   "id": "eb16d41b-c545-4617-9465-4c911059391f",
   "metadata": {},
   "source": [
    "### House (регрессия)"
   ]
  },
  {
   "cell_type": "code",
   "execution_count": null,
   "id": "30103094-80e6-43f1-adda-4e8f3306a41d",
   "metadata": {},
   "outputs": [],
   "source": [
    "X_reg = house_data.drop(\"price\", axis=1)\n",
    "y_reg = house_data[\"price\"]"
   ]
  },
  {
   "cell_type": "code",
   "execution_count": null,
   "id": "1b3f701c-439e-47cc-91de-dfeba7a6ee34",
   "metadata": {},
   "outputs": [],
   "source": [
    "# Hold-out\n",
    "X_train_reg, X_test_reg, y_train_reg, y_test_reg = train_test_split(\n",
    "    X_reg, y_reg,\n",
    "    test_size=0.2,       # 20% в тест\n",
    "    random_state=42\n",
    ")"
   ]
  },
  {
   "cell_type": "code",
   "execution_count": null,
   "id": "531f3808-0630-49da-954b-e5b2063fae8d",
   "metadata": {},
   "outputs": [],
   "source": [
    "kf = KFold(n_splits=5, shuffle=True, random_state=42)\n",
    "reg = RandomForestRegressor(\n",
    "    n_estimators=200,\n",
    "    max_depth=15,\n",
    "    min_samples_leaf=4,\n",
    "    random_state=42,\n",
    "    n_jobs=-1\n",
    ")\n",
    "\n",
    "mse_scores = []\n",
    "mae_scores = []\n",
    "r2_scores = []\n",
    "\n",
    "for fold, (train_idx, val_idx) in enumerate(kf.split(X_train_reg)):\n",
    "    print(f\"\\nFold {fold + 1}:\")\n",
    "\n",
    "    # Разделение данных\n",
    "    X_fold_train, X_fold_val = X_train_reg.iloc[train_idx], X_train_reg.iloc[val_idx]\n",
    "    y_fold_train, y_fold_val = y_train_reg.iloc[train_idx], y_train_reg.iloc[val_idx]\n",
    "\n",
    "    # Обучение модели\n",
    "    reg.fit(X_fold_train, y_fold_train)\n",
    "\n",
    "    # Предсказания\n",
    "    y_pred = reg.predict(X_fold_val)\n",
    "\n",
    "    # Метрики\n",
    "    mse = mean_squared_error(y_fold_val, y_pred)\n",
    "    mae = mean_absolute_error(y_fold_val, y_pred)\n",
    "    r2 = r2_score(y_fold_val, y_pred)\n",
    "\n",
    "    print(f\"MSE: {mse:.2f}, MAE: {mae:.2f}, R²: {r2:.4f}\")\n",
    "\n",
    "    # Сохраняем метрики\n",
    "    mse_scores.append(mse)\n",
    "    mae_scores.append(mae)\n",
    "    r2_scores.append(r2)\n",
    "\n",
    "# Усреднённые метрики\n",
    "print(\"\\nСредние метрики по кросс-валидации:\")\n",
    "print(f\"MSE: {np.mean(mse_scores):.2f}\")\n",
    "print(f\"MAE: {np.mean(mae_scores):.2f}\")\n",
    "print(f\"R²: {np.mean(r2_scores):.4f}\")"
   ]
  },
  {
   "cell_type": "markdown",
   "id": "ff88d9c7-67af-48e2-8d2a-6ad8e38ffb44",
   "metadata": {},
   "source": [
    "### Что используем в работе?"
   ]
  },
  {
   "cell_type": "markdown",
   "id": "85148369-e752-4840-83e6-dee2b5499edc",
   "metadata": {},
   "source": [
    "Классификация:\n",
    "- X_train_clf, y_train_clf  (Основной тренировочный набор)\n",
    "- X_test_clf, y_test_clf  (Финальный тестовый набор)"
   ]
  },
  {
   "cell_type": "markdown",
   "id": "06eaeee5-c2c8-470d-b233-a0feb47e89e5",
   "metadata": {},
   "source": [
    "Регрессия:\n",
    "- X_train_reg, y_train_reg  (Основной тренировочный набор)\n",
    "- X_test_reg, y_test_reg  (Финальный тестовый набор)"
   ]
  },
  {
   "cell_type": "markdown",
   "id": "389adffd-0395-4f80-be28-bb3c00a5c938",
   "metadata": {},
   "source": [
    "# Решение задачи регрессии и классификации"
   ]
  },
  {
   "cell_type": "markdown",
   "id": "8f149bbd-de7b-4f29-a83c-18abf56bea6e",
   "metadata": {},
   "source": [
    "##  Деревья решений: DecisionTreeRegressor и DecisionTreeClassifier"
   ]
  },
  {
   "cell_type": "markdown",
   "id": "23f072c5-4357-4f87-95bf-9e2de339dac7",
   "metadata": {},
   "source": [
    "Решите задачу регрессии и классификации на ваших данных с использованием деревьев решений: DecisionTreeRegressor и DecisionTreeClassifier из \n",
    "Scikit-learn"
   ]
  },
  {
   "cell_type": "markdown",
   "id": "4b2df36d-632c-4b76-84b6-e0a3ff9a7da5",
   "metadata": {},
   "source": [
    "### DecisionTreeClassifier"
   ]
  },
  {
   "cell_type": "code",
   "execution_count": null,
   "id": "be3ca677-449c-46d4-9165-87e76e6f686c",
   "metadata": {},
   "outputs": [],
   "source": [
    "X_small, _, y_small, _ = train_test_split(\n",
    "    X_train_clf, y_train_clf,\n",
    "    train_size=0.01,\n",
    "    stratify=y_train_clf,\n",
    "    random_state=42\n",
    ")"
   ]
  },
  {
   "cell_type": "code",
   "execution_count": null,
   "id": "1fa4d941-fd76-451b-8ea8-d514ef8a3be7",
   "metadata": {},
   "outputs": [],
   "source": [
    "param_grid = {\n",
    "    'criterion': ['gini', 'entropy', 'log_loss'],\n",
    "    'max_depth': [5, 10, 15, None],\n",
    "    'min_samples_split': [2, 5, 10],\n",
    "    'min_samples_leaf': [1, 2, 5],\n",
    "    'max_features': ['sqrt', 'log2', None],\n",
    "    'max_leaf_nodes': [None, 10, 20],\n",
    "    'class_weight': [None, 'balanced']\n",
    "}\n",
    "grid_clf_dtc = GridSearchCV(DecisionTreeClassifier(random_state=42), param_grid,cv=3, scoring='f1', n_jobs=-1)\n",
    "grid_clf_dtc.fit(X_small, y_small)\n",
    "best_grid_params_clf_dtc = grid_clf_dtc.best_params_\n",
    "print(\"Лучшие параметры от GridSearch:\", best_grid_params_clf_dtc)"
   ]
  },
  {
   "cell_type": "code",
   "execution_count": null,
   "id": "8b068b52-c573-433a-b0aa-18e0afd9c894",
   "metadata": {},
   "outputs": [],
   "source": [
    "param_dist = {\n",
    "    'criterion': ['gini', 'entropy', 'log_loss'],\n",
    "    'max_depth': randint(3, 20),\n",
    "    'min_samples_split': randint(2, 20),\n",
    "    'min_samples_leaf': randint(1, 10),\n",
    "    'max_features': ['sqrt', 'log2', None],\n",
    "    'max_leaf_nodes': [None, 10, 20, 30],\n",
    "    'class_weight': [None, 'balanced']\n",
    "}\n",
    "random_search_clf_dtc = RandomizedSearchCV(DecisionTreeClassifier(random_state=42),\n",
    "                                   param_distributions=param_dist,\n",
    "                                   n_iter=30,\n",
    "                                   cv=3,\n",
    "                                   scoring='f1',\n",
    "                                   random_state=42,\n",
    "                                   n_jobs=-1)\n",
    "random_search_clf_dtc.fit(X_small, y_small)\n",
    "best_random_params_clf_dtc = random_search_clf_dtc.best_params_\n",
    "print(\"Лучшие параметры от RandomizedSearch:\", best_random_params_clf_dtc)"
   ]
  },
  {
   "cell_type": "code",
   "execution_count": null,
   "id": "1cb51059-9e67-49de-a319-5bac85d12134",
   "metadata": {},
   "outputs": [],
   "source": [
    "def objective(trial):\n",
    "    clf = DecisionTreeClassifier(\n",
    "        criterion=trial.suggest_categorical('criterion', ['gini', 'entropy', 'log_loss']),\n",
    "        max_depth=trial.suggest_int('max_depth', 3, 20),\n",
    "        min_samples_split=trial.suggest_int('min_samples_split', 2, 20),\n",
    "        min_samples_leaf=trial.suggest_int('min_samples_leaf', 1, 10),\n",
    "        max_features=trial.suggest_categorical('max_features', ['sqrt', 'log2', None]),\n",
    "        max_leaf_nodes=trial.suggest_categorical('max_leaf_nodes', [None, 10, 20, 30]),\n",
    "        class_weight=trial.suggest_categorical('class_weight', [None, 'balanced']),\n",
    "        random_state=42\n",
    "    )\n",
    "    score = cross_val_score(clf, X_small, y_small, cv=3, scoring='f1').mean()\n",
    "    return score\n",
    "\n",
    "study_clf_dtc = optuna.create_study(direction='maximize')\n",
    "study_clf_dtc.optimize(objective, n_trials=30)\n",
    "best_optuna_params_clf_dtc = study_clf_dtc.best_params\n",
    "print(\"Лучшие параметры от Optuna:\", best_optuna_params_clf_dtc)"
   ]
  },
  {
   "cell_type": "code",
   "execution_count": null,
   "id": "ea50ec2a-f478-45eb-9ef6-630cc82ba52c",
   "metadata": {},
   "outputs": [],
   "source": [
    "# Обучение моделей на полном тренировочном наборе\n",
    "grid_clf = DecisionTreeClassifier(**best_grid_params_clf_dtc, random_state=42)\n",
    "grid_clf.fit(X_train_clf, y_train_clf)\n",
    "\n",
    "rand_clf = DecisionTreeClassifier(**best_random_params_clf_dtc, random_state=42)\n",
    "rand_clf.fit(X_train_clf, y_train_clf)\n",
    "\n",
    "optuna_clf = DecisionTreeClassifier(**best_optuna_params_clf_dtc, random_state=42)\n",
    "optuna_clf.fit(X_train_clf, y_train_clf)"
   ]
  },
  {
   "cell_type": "code",
   "execution_count": null,
   "id": "250246c2-322e-4e66-aa88-5ee98fbdb191",
   "metadata": {},
   "outputs": [],
   "source": [
    "# Предсказания на тестовой выборке\n",
    "y_pred_grid = grid_clf.predict(X_test_clf)\n",
    "y_pred_rand = rand_clf.predict(X_test_clf)\n",
    "y_pred_optuna = optuna_clf.predict(X_test_clf)\n",
    "\n",
    "# Сравнение метрик в таблице\n",
    "comparison_clf = pd.DataFrame({\n",
    "    \"Метрика\": [\"Accuracy\", \"Precision\", \"Recall\", \"F1-score\"],\n",
    "    \"GridSearch\": [\n",
    "        accuracy_score(y_test_clf, y_pred_grid),\n",
    "        precision_score(y_test_clf, y_pred_grid),\n",
    "        recall_score(y_test_clf, y_pred_grid),\n",
    "        f1_score(y_test_clf, y_pred_grid)\n",
    "    ],\n",
    "    \"RandomSearch\": [\n",
    "        accuracy_score(y_test_clf, y_pred_rand),\n",
    "        precision_score(y_test_clf, y_pred_rand),\n",
    "        recall_score(y_test_clf, y_pred_rand),\n",
    "        f1_score(y_test_clf, y_pred_rand)\n",
    "    ],\n",
    "    \"Optuna\": [\n",
    "        accuracy_score(y_test_clf, y_pred_optuna),\n",
    "        precision_score(y_test_clf, y_pred_optuna),\n",
    "        recall_score(y_test_clf, y_pred_optuna),\n",
    "        f1_score(y_test_clf, y_pred_optuna)\n",
    "    ]\n",
    "})\n",
    "\n",
    "print(\"Сравнение методов подбора для классификации:\")\n",
    "print(comparison_clf)"
   ]
  },
  {
   "cell_type": "code",
   "execution_count": null,
   "id": "1275dc52-3b3f-41e8-8abf-9ee12fb4170c",
   "metadata": {},
   "outputs": [],
   "source": [
    "final_params = best_optuna_params_clf_dtc\n",
    "final_dtc_clf = DecisionTreeClassifier(**final_params, random_state=42)\n",
    "final_dtc_clf.fit(X_train_clf, y_train_clf)"
   ]
  },
  {
   "cell_type": "code",
   "execution_count": null,
   "id": "4a41b84c-26fa-4051-8a6a-97404d562aee",
   "metadata": {},
   "outputs": [],
   "source": [
    "y_pred_clf = final_dtc_clf.predict(X_test_clf)\n",
    "\n",
    "clf_metrics = {\n",
    "    \"Метрика\": [\"Accuracy\", \"Precision\", \"Recall\", \"F1-score\"],\n",
    "    \"Значение\": [\n",
    "        accuracy_score(y_test_clf, y_pred_clf),\n",
    "        precision_score(y_test_clf, y_pred_clf),\n",
    "        recall_score(y_test_clf, y_pred_clf),\n",
    "        f1_score(y_test_clf, y_pred_clf)\n",
    "    ]\n",
    "}\n",
    "\n",
    "clf_metrics__dtc_df = pd.DataFrame(clf_metrics)\n",
    "print(\"Метрики для классификации:\")\n",
    "print(clf_metrics__dtc_df)"
   ]
  },
  {
   "cell_type": "code",
   "execution_count": null,
   "id": "e520440b-762a-44d8-9edb-754751d0ae47",
   "metadata": {},
   "outputs": [],
   "source": [
    "plt.figure(figsize=(50, 12))\n",
    "plot_tree(final_dtc_clf,\n",
    "          feature_names=X_train_clf.columns,\n",
    "          class_names=['0', '1'],\n",
    "          filled=True,\n",
    "          rounded=True,\n",
    "          fontsize=10)\n",
    "plt.title(\"Дерево решений — Классификация\")\n",
    "plt.show()"
   ]
  },
  {
   "cell_type": "code",
   "execution_count": null,
   "id": "21a21a52-fdd0-4283-a9d5-33d09f450921",
   "metadata": {},
   "outputs": [],
   "source": [
    "# Выводим правила в виде текста\n",
    "rules_text = export_text(final_dtc_clf, feature_names=list(X_train_clf.columns))\n",
    "print(\"Решающие правила дерева (в текстовом виде):\\n\")\n",
    "print(rules_text)"
   ]
  },
  {
   "cell_type": "markdown",
   "id": "77ccf68b-9cca-4b5a-b473-d7ed0270839f",
   "metadata": {},
   "source": [
    "### DecisionTreeRegressor"
   ]
  },
  {
   "cell_type": "code",
   "execution_count": null,
   "id": "4c942300-fd8a-4274-9b93-ccdd12b621b2",
   "metadata": {},
   "outputs": [],
   "source": [
    "X_small_reg, _, y_small_reg, _ = train_test_split(\n",
    "    X_train_reg, y_train_reg,\n",
    "    train_size=0.01,\n",
    "    random_state=42\n",
    ")"
   ]
  },
  {
   "cell_type": "code",
   "execution_count": null,
   "id": "aab2a0e8-07eb-4d2e-bcae-33b375a31018",
   "metadata": {},
   "outputs": [],
   "source": [
    "from sklearn.tree import DecisionTreeRegressor\n",
    "param_grid_reg = {\n",
    "    'criterion': ['squared_error', 'friedman_mse', 'absolute_error'],\n",
    "    'max_depth': [5, 10, 15, None],\n",
    "    'min_samples_split': [2, 5, 10],\n",
    "    'min_samples_leaf': [1, 2, 5],\n",
    "    'max_features': ['sqrt', 'log2', None],\n",
    "    'max_leaf_nodes': [None, 10, 20]\n",
    "}\n",
    "\n",
    "grid_clt_reg = GridSearchCV(DecisionTreeRegressor(random_state=42),\n",
    "                        param_grid=param_grid_reg,\n",
    "                        cv=3,\n",
    "                        scoring='neg_mean_squared_error',\n",
    "                        n_jobs=-1)\n",
    "grid_clt_reg.fit(X_small_reg, y_small_reg)\n",
    "best_grid_params_clt_reg = grid_clt_reg.best_params_\n",
    "print(\"Лучшие параметры от GridSearch:\", best_grid_params_clt_reg)"
   ]
  },
  {
   "cell_type": "code",
   "execution_count": null,
   "id": "368432cf-a360-4b6c-8fbc-16a671b4afc5",
   "metadata": {},
   "outputs": [],
   "source": [
    "param_dist_reg = {\n",
    "    'criterion': ['squared_error', 'friedman_mse', 'absolute_error'],\n",
    "    'max_depth': randint(3, 20),\n",
    "    'min_samples_split': randint(2, 20),\n",
    "    'min_samples_leaf': randint(1, 10),\n",
    "    'max_features': ['sqrt', 'log2', None],\n",
    "    'max_leaf_nodes': [None, 10, 20, 30]\n",
    "}\n",
    "\n",
    "rand_clt_reg = RandomizedSearchCV(DecisionTreeRegressor(random_state=42),\n",
    "                              param_distributions=param_dist_reg,\n",
    "                              n_iter=30,\n",
    "                              scoring='neg_mean_squared_error',\n",
    "                              cv=3,\n",
    "                              random_state=42,\n",
    "                              n_jobs=-1)\n",
    "rand_clt_reg.fit(X_small_reg, y_small_reg)\n",
    "best_rand_params_clt_reg = rand_clt_reg.best_params_\n",
    "print(\"Лучшие параметры от RandomizedSearch:\", best_rand_params_clt_reg)"
   ]
  },
  {
   "cell_type": "code",
   "execution_count": null,
   "id": "4476155f-c422-45ff-9d53-686e07d00802",
   "metadata": {},
   "outputs": [],
   "source": [
    "def objective_reg(trial):\n",
    "    model = DecisionTreeRegressor(\n",
    "        criterion=trial.suggest_categorical('criterion', ['squared_error', 'friedman_mse', 'absolute_error']),\n",
    "        max_depth=trial.suggest_int('max_depth', 3, 20),\n",
    "        min_samples_split=trial.suggest_int('min_samples_split', 2, 20),\n",
    "        min_samples_leaf=trial.suggest_int('min_samples_leaf', 1, 10),\n",
    "        max_features=trial.suggest_categorical('max_features', ['sqrt', 'log2', None]),\n",
    "        max_leaf_nodes=trial.suggest_categorical('max_leaf_nodes', [None, 10, 20, 30]),\n",
    "        random_state=42\n",
    "    )\n",
    "    score = cross_val_score(model, X_small_reg, y_small_reg, cv=3, scoring='neg_mean_squared_error').mean()\n",
    "    return score\n",
    "\n",
    "study_clt_reg = optuna.create_study(direction='maximize')\n",
    "study_clt_reg.optimize(objective_reg, n_trials=30)\n",
    "best_optuna_params_clt_reg = study_clt_reg.best_params\n",
    "print(\"Лучшие параметры от Optuna:\", best_optuna_params_clt_reg)"
   ]
  },
  {
   "cell_type": "code",
   "execution_count": null,
   "id": "ef3244c6-761f-48c2-897c-986a38a4c4be",
   "metadata": {},
   "outputs": [],
   "source": [
    "# Обучение моделей на полном тренировочном наборе\n",
    "grid_reg = DecisionTreeRegressor(**best_grid_params_clt_reg, random_state=42)\n",
    "grid_reg.fit(X_train_reg, y_train_reg)\n",
    "\n",
    "rand_reg = DecisionTreeRegressor(**best_rand_params_clt_reg, random_state=42)\n",
    "rand_reg.fit(X_train_reg, y_train_reg)\n",
    "\n",
    "optuna_reg = DecisionTreeRegressor(**best_optuna_params_clt_reg, random_state=42)\n",
    "optuna_reg.fit(X_train_reg, y_train_reg)"
   ]
  },
  {
   "cell_type": "code",
   "execution_count": null,
   "id": "b44d2bfe-4d49-48f0-abf1-67e5f1d53cae",
   "metadata": {},
   "outputs": [],
   "source": [
    "# Предсказания на тесте\n",
    "y_pred_grid_reg = grid_reg.predict(X_test_reg)\n",
    "y_pred_rand_reg = rand_reg.predict(X_test_reg)\n",
    "y_pred_optuna_reg = optuna_reg.predict(X_test_reg)\n",
    "\n",
    "# Метрики\n",
    "comparison_reg = pd.DataFrame({\n",
    "    \"Метрика\": [\"MSE\", \"MAE\", \"R2\", \"MAPE\"],\n",
    "    \"GridSearch\": [\n",
    "        mean_squared_error(y_test_reg, y_pred_grid_reg),\n",
    "        mean_absolute_error(y_test_reg, y_pred_grid_reg),\n",
    "        r2_score(y_test_reg, y_pred_grid_reg),\n",
    "        mean_absolute_percentage_error(y_test_reg, y_pred_grid_reg)\n",
    "    ],\n",
    "    \"RandomSearch\": [\n",
    "        mean_squared_error(y_test_reg, y_pred_rand_reg),\n",
    "        mean_absolute_error(y_test_reg, y_pred_rand_reg),\n",
    "        r2_score(y_test_reg, y_pred_rand_reg),\n",
    "        mean_absolute_percentage_error(y_test_reg, y_pred_rand_reg)\n",
    "    ],\n",
    "    \"Optuna\": [\n",
    "        mean_squared_error(y_test_reg, y_pred_optuna_reg),\n",
    "        mean_absolute_error(y_test_reg, y_pred_optuna_reg),\n",
    "        r2_score(y_test_reg, y_pred_optuna_reg),\n",
    "        mean_absolute_percentage_error(y_test_reg, y_pred_optuna_reg)\n",
    "    ]\n",
    "})\n",
    "\n",
    "# Устанавливаем формат отображения чисел без экспонент\n",
    "pd.options.display.float_format = '{:,.4f}'.format\n",
    "\n",
    "# Выводим таблицу с форматированием\n",
    "print(\"\\nСравнение методов подбора для регрессии:\")\n",
    "print(comparison_reg)"
   ]
  },
  {
   "cell_type": "code",
   "execution_count": null,
   "id": "83282674-da01-48ec-bcaa-2b1e0a6af870",
   "metadata": {},
   "outputs": [],
   "source": [
    "final_params_reg = best_grid_params_clt_reg\n",
    "final_reg_clt = DecisionTreeRegressor(**final_params_reg, random_state=42)\n",
    "final_reg_clt.fit(X_train_reg, y_train_reg)"
   ]
  },
  {
   "cell_type": "code",
   "execution_count": null,
   "id": "89ecf20f-16c2-4ce5-8b71-715b4665b0d9",
   "metadata": {},
   "outputs": [],
   "source": [
    "y_pred_reg = final_reg_clt.predict(X_test_reg)\n",
    "\n",
    "reg_metrics = {\n",
    "    \"Метрика\": [\"MSE\", \"MAE\", \"R2\", \"MAPE\"],\n",
    "    \"Значение\": [\n",
    "        mean_squared_error(y_test_reg, y_pred_reg),\n",
    "        mean_absolute_error(y_test_reg, y_pred_reg),\n",
    "        r2_score(y_test_reg, y_pred_reg),\n",
    "        mean_absolute_percentage_error(y_test_reg, y_pred_reg)\n",
    "    ]\n",
    "}\n",
    "\n",
    "reg_metrics_clt_df = pd.DataFrame(reg_metrics)\n",
    "print(\"\\nМетрики для регрессии:\")\n",
    "print(reg_metrics_clt_df)"
   ]
  },
  {
   "cell_type": "code",
   "execution_count": null,
   "id": "310afe70-b9b6-43e3-b969-35c284d8640b",
   "metadata": {},
   "outputs": [],
   "source": [
    "plt.figure(figsize=(45, 12))\n",
    "plot_tree(final_reg_clt,\n",
    "          feature_names=X_train_reg.columns,\n",
    "          filled=True,\n",
    "          rounded=True,\n",
    "          fontsize=10)\n",
    "plt.title(\"Дерево решений — Регрессия\")\n",
    "plt.show()"
   ]
  },
  {
   "cell_type": "code",
   "execution_count": null,
   "id": "dcb786ed-cc33-4e12-84b9-fe4b5ff7d647",
   "metadata": {},
   "outputs": [],
   "source": [
    "rules_text_reg = export_text(final_reg_clt, feature_names=list(X_train_reg.columns))\n",
    "print(\"Решающие правила дерева (регрессия):\\n\")\n",
    "print(rules_text_reg)"
   ]
  },
  {
   "cell_type": "markdown",
   "id": "c7c73841-4a6c-4847-b01d-623f3f40275a",
   "metadata": {},
   "source": [
    "## Ансамбли из Scikit-learn: BaggingRegressor, BaggingClassifier"
   ]
  },
  {
   "cell_type": "markdown",
   "id": "457519ec-8ff5-43c4-834e-d9cca19cfb4a",
   "metadata": {},
   "source": [
    "Решите задачу регрессии и классификации на ваших данных с использованием ансамблей из Scikit-learn: \n",
    "- BaggingRegressor\n",
    "- BaggingClassifier "
   ]
  },
  {
   "cell_type": "markdown",
   "id": "1eac4068-8f45-4f53-bcb4-8c0f1bbcd4bb",
   "metadata": {},
   "source": [
    "### BaggingClassifier"
   ]
  },
  {
   "cell_type": "code",
   "execution_count": null,
   "id": "1bc6d934-e748-408a-9ff8-f15ef7b37bbe",
   "metadata": {},
   "outputs": [],
   "source": [
    "X_small_bag_clf, _, y_small_bag_clf, _ = train_test_split(X_train_clf, y_train_clf, \n",
    "                                                          train_size=0.01, \n",
    "                                                          stratify=y_train_clf, \n",
    "                                                          random_state=42)"
   ]
  },
  {
   "cell_type": "code",
   "execution_count": null,
   "id": "b8770b44-721c-40f9-a00b-71c36e1b9610",
   "metadata": {},
   "outputs": [],
   "source": [
    "param_grid_bag_clf = {\n",
    "    'n_estimators': [10, 30, 50],\n",
    "    'max_samples': [0.5, 0.7, 1.0],\n",
    "    'max_features': [0.5, 0.7, 1.0],\n",
    "    'bootstrap': [True, False]\n",
    "}\n",
    "\n",
    "grid_bag_clf = GridSearchCV(BaggingClassifier(estimator=RandomForestClassifier(), random_state=42),\n",
    "                            param_grid_bag_clf,\n",
    "                            cv=3,\n",
    "                            scoring='f1',\n",
    "                            n_jobs=-1)\n",
    "\n",
    "grid_bag_clf.fit(X_small_bag_clf, y_small_bag_clf)\n",
    "best_params_grid_bag_clf = grid_bag_clf.best_params_\n",
    "print(\"Лучшие параметры от GridSearch:\", best_params_grid_bag_clf)"
   ]
  },
  {
   "cell_type": "code",
   "execution_count": null,
   "id": "ab915c3d-b841-465d-bee5-2b8bc3095d67",
   "metadata": {},
   "outputs": [],
   "source": [
    "param_dist_bag_clf = {\n",
    "    'n_estimators': randint(10, 100),\n",
    "    'max_samples': uniform(0.5, 0.5),\n",
    "    'max_features': uniform(0.5, 0.5),\n",
    "    'bootstrap': [True, False]\n",
    "}\n",
    "\n",
    "random_bag_clf = RandomizedSearchCV(BaggingClassifier(estimator=RandomForestClassifier(), random_state=42),\n",
    "                                    param_distributions=param_dist_bag_clf,\n",
    "                                    n_iter=30,\n",
    "                                    cv=3,\n",
    "                                    scoring='f1',\n",
    "                                    random_state=42,\n",
    "                                    n_jobs=-1)\n",
    "\n",
    "random_bag_clf.fit(X_small_bag_clf, y_small_bag_clf)\n",
    "best_params_random_bag_clf = random_bag_clf.best_params_\n",
    "print(\"Лучшие параметры от RandomizedSearchCV:\", best_params_random_bag_clf)"
   ]
  },
  {
   "cell_type": "code",
   "execution_count": null,
   "id": "7ed36004-386c-4cc5-80ec-e47eef71654e",
   "metadata": {},
   "outputs": [],
   "source": [
    "def objective_bag_clf(trial):\n",
    "    clf = BaggingClassifier(\n",
    "        estimator=RandomForestClassifier(),\n",
    "        n_estimators=trial.suggest_int('n_estimators', 10, 100),\n",
    "        max_samples=trial.suggest_float('max_samples', 0.5, 1.0),\n",
    "        max_features=trial.suggest_float('max_features', 0.5, 1.0),\n",
    "        bootstrap=trial.suggest_categorical('bootstrap', [True, False]),\n",
    "        random_state=42\n",
    "    )\n",
    "    return cross_val_score(clf, X_small_bag_clf, y_small_bag_clf, cv=3, scoring='f1').mean()\n",
    "\n",
    "study_bag_clf = optuna.create_study(direction='maximize')\n",
    "study_bag_clf.optimize(objective_bag_clf, n_trials=30)\n",
    "best_params_optuna_bag_clf = study_bag_clf.best_params\n",
    "print(\"Лучшие параметры от Optuna:\", best_params_optuna_bag_clf)"
   ]
  },
  {
   "cell_type": "code",
   "execution_count": null,
   "id": "ff57bee8-3993-4f19-ab1d-5eca01629d4c",
   "metadata": {},
   "outputs": [],
   "source": [
    "sample_size = len(X_train_clf) // 20\n",
    "X_train_small = X_train_clf[:sample_size]\n",
    "y_train_small = y_train_clf[:sample_size]"
   ]
  },
  {
   "cell_type": "code",
   "execution_count": null,
   "id": "149b58f1-9b43-47fc-ae22-b61f512f3687",
   "metadata": {},
   "outputs": [],
   "source": [
    "grid_model_bag_clf = BaggingClassifier(estimator=RandomForestClassifier(), random_state=42, **best_params_grid_bag_clf)\n",
    "grid_model_bag_clf.fit(X_train_small, y_train_small)"
   ]
  },
  {
   "cell_type": "code",
   "execution_count": null,
   "id": "1dd72ec8-10e6-4ab7-a744-cd6f1822e78c",
   "metadata": {},
   "outputs": [],
   "source": [
    "random_model_bag_clf = BaggingClassifier(estimator=RandomForestClassifier(), random_state=42, **best_params_random_bag_clf)\n",
    "random_model_bag_clf.fit(X_train_small, y_train_small)"
   ]
  },
  {
   "cell_type": "code",
   "execution_count": null,
   "id": "0e655cfc-4516-4de4-b308-4604ff8073b5",
   "metadata": {},
   "outputs": [],
   "source": [
    "optuna_model_bag_clf = BaggingClassifier(estimator=RandomForestClassifier(), random_state=42, **best_params_optuna_bag_clf)\n",
    "optuna_model_bag_clf.fit(X_train_small, y_train_small)"
   ]
  },
  {
   "cell_type": "code",
   "execution_count": null,
   "id": "ba42ffc8-b380-4718-ba2d-e1bbf50cbe6d",
   "metadata": {},
   "outputs": [],
   "source": [
    "y_pred_grid_bag_clf = grid_model_bag_clf.predict(X_test_clf)\n",
    "y_pred_rand_bag_clf = random_model_bag_clf.predict(X_test_clf)\n",
    "y_pred_optuna_bag_clf = optuna_model_bag_clf.predict(X_test_clf)\n",
    "comparison_bag_clf = pd.DataFrame({\n",
    "    \"Метрика\": [\"F1\", \"Precision\", \"Recall\", \"Accuracy\"],\n",
    "    \"GridSearch\": [\n",
    "        f1_score(y_test_clf, y_pred_grid_bag_clf),\n",
    "        precision_score(y_test_clf, y_pred_grid_bag_clf),\n",
    "        recall_score(y_test_clf, y_pred_grid_bag_clf),\n",
    "        accuracy_score(y_test_clf, y_pred_grid_bag_clf)\n",
    "    ],\n",
    "    \"RandomSearch\": [\n",
    "        f1_score(y_test_clf, y_pred_rand_bag_clf),\n",
    "        precision_score(y_test_clf, y_pred_rand_bag_clf),\n",
    "        recall_score(y_test_clf, y_pred_rand_bag_clf),\n",
    "        accuracy_score(y_test_clf, y_pred_rand_bag_clf)\n",
    "    ],\n",
    "    \"Optuna\": [\n",
    "        f1_score(y_test_clf, y_pred_optuna_bag_clf),\n",
    "        precision_score(y_test_clf, y_pred_optuna_bag_clf),\n",
    "        recall_score(y_test_clf, y_pred_optuna_bag_clf),\n",
    "        accuracy_score(y_test_clf, y_pred_optuna_bag_clf)\n",
    "    ]\n",
    "})\n",
    "print(comparison_bag_clf)"
   ]
  },
  {
   "cell_type": "code",
   "execution_count": null,
   "id": "980ec1ea-4c5a-429c-83f4-b3f3605fb416",
   "metadata": {},
   "outputs": [],
   "source": [
    "final_bag_clf = grid_model_bag_clf\n",
    "# Метрики финальной\n",
    "y_final_pred_bag_clf = final_bag_clf.predict(X_test_clf)\n",
    "clf_metrics = {\n",
    "    \"Метрика\": [\"Accuracy\", \"Precision\", \"Recall\", \"F1-score\"],\n",
    "    \"Значение\": [\n",
    "        accuracy_score(y_test_clf, y_final_pred_bag_clf),\n",
    "        precision_score(y_test_clf, y_final_pred_bag_clf),\n",
    "        recall_score(y_test_clf, y_final_pred_bag_clf),\n",
    "        f1_score(y_test_clf, y_final_pred_bag_clf)\n",
    "    ]\n",
    "}\n",
    "\n",
    "clf_metrics_bag_df = pd.DataFrame(clf_metrics)\n",
    "print(\"\\nКлассификационный отчёт финальной модели (BaggingClassifier):\")\n",
    "print(clf_metrics_bag_df)"
   ]
  },
  {
   "cell_type": "markdown",
   "id": "b2100c29-17e1-431c-ae66-8162e4f04fd2",
   "metadata": {},
   "source": [
    "### BaggingRegressor"
   ]
  },
  {
   "cell_type": "code",
   "execution_count": null,
   "id": "487db12b-dff8-480b-b59c-8b08e3275ec9",
   "metadata": {},
   "outputs": [],
   "source": [
    "X_small_bag_reg = X_reg.sample(frac=0.001, random_state=42)\n",
    "y_small_bag_reg = y_reg[X_small_bag_reg.index]"
   ]
  },
  {
   "cell_type": "code",
   "execution_count": null,
   "id": "170e4278-5da4-41f6-ad60-95842721a7fa",
   "metadata": {},
   "outputs": [],
   "source": [
    "from sklearn.ensemble import BaggingRegressor"
   ]
  },
  {
   "cell_type": "code",
   "execution_count": null,
   "id": "a006de7d-39b5-4952-848f-dd1460a6c797",
   "metadata": {},
   "outputs": [],
   "source": [
    "param_grid_bag_reg = {\n",
    "    'n_estimators': [10, 30, 50],\n",
    "    'max_samples': [0.5, 0.7, 1.0],\n",
    "    'max_features': [0.5, 0.7, 1.0],\n",
    "    'bootstrap': [True, False]\n",
    "}\n",
    "\n",
    "grid_bag_reg = GridSearchCV(\n",
    "    BaggingRegressor(estimator=RandomForestRegressor(), random_state=42),\n",
    "    param_grid=param_grid_bag_reg,\n",
    "    cv=3,\n",
    "    scoring='neg_mean_squared_error', \n",
    "    n_jobs=-1\n",
    ")\n",
    "\n",
    "grid_bag_reg.fit(X_small_bag_reg, y_small_bag_reg)\n",
    "best_params_grid_bag_reg = grid_bag_reg.best_params_\n",
    "print(\"Лучшие параметры для BaggingRegressor от GridSearch:\", best_params_grid_bag_reg)"
   ]
  },
  {
   "cell_type": "code",
   "execution_count": null,
   "id": "aea08ad2-81fe-4de8-8014-f5f5cba27a03",
   "metadata": {},
   "outputs": [],
   "source": [
    "param_dist_bag_reg = {\n",
    "    'n_estimators': [10, 30, 50],\n",
    "    'max_samples': [0.5, 0.7, 1.0],\n",
    "    'max_features': [0.5, 0.7, 1.0],\n",
    "    'bootstrap': [True, False]\n",
    "}\n",
    "\n",
    "random_bag_reg = RandomizedSearchCV(\n",
    "    BaggingRegressor(estimator=RandomForestRegressor(), random_state=42),\n",
    "    param_distributions=param_dist_bag_reg,\n",
    "    n_iter=30,\n",
    "    cv=3,\n",
    "    scoring='neg_mean_squared_error',\n",
    "    random_state=42,\n",
    "    n_jobs=-1\n",
    ")\n",
    "\n",
    "random_bag_reg.fit(X_small_bag_reg, y_small_bag_reg)\n",
    "best_params_random_bag_reg = random_bag_reg.best_params_\n",
    "print(\"Лучшие параметры для BaggingRegressor от RandomizedSearch:\", best_params_random_bag_reg)"
   ]
  },
  {
   "cell_type": "code",
   "execution_count": null,
   "id": "b68b8f5f-38a7-4a44-884c-9a525aaedfd2",
   "metadata": {},
   "outputs": [],
   "source": [
    "def objective_bag_reg(trial):\n",
    "    bag_reg = BaggingRegressor(\n",
    "        estimator=RandomForestRegressor(),\n",
    "        n_estimators=trial.suggest_int('n_estimators', 10, 50),\n",
    "        max_samples=trial.suggest_uniform('max_samples', 0.5, 1.0),\n",
    "        max_features=trial.suggest_uniform('max_features', 0.5, 1.0),\n",
    "        bootstrap=trial.suggest_categorical('bootstrap', [True, False]),\n",
    "        random_state=42\n",
    "    )\n",
    "    score = cross_val_score(bag_reg, X_small_bag_reg, y_small_bag_reg, cv=3, scoring='neg_mean_squared_error').mean()\n",
    "    return score\n",
    "\n",
    "study_bag_reg = optuna.create_study(direction='maximize')\n",
    "study_bag_reg.optimize(objective_bag_reg, n_trials=30)\n",
    "best_params_optuna_bag_reg = study_bag_reg.best_params\n",
    "print(\"Лучшие параметры для BaggingRegressor от Optuna:\", best_params_optuna_bag_reg)\n"
   ]
  },
  {
   "cell_type": "code",
   "execution_count": null,
   "id": "ca60a759-f060-4018-b16a-cce2f7bae6ea",
   "metadata": {},
   "outputs": [],
   "source": [
    "X_train_small_reg = X_train_reg.sample(frac=0.1, random_state=42)\n",
    "y_train_small_reg = y_train_reg.loc[X_train_small_reg.index]"
   ]
  },
  {
   "cell_type": "code",
   "execution_count": null,
   "id": "367bc38b-22d3-469d-b5f5-20d065389cb7",
   "metadata": {},
   "outputs": [],
   "source": [
    "# Обучение модели с лучшими параметрами от GridSearchCV\n",
    "best_bag_reg_grid = BaggingRegressor(estimator=RandomForestRegressor(), random_state=42, **best_params_grid_bag_reg)\n",
    "best_bag_reg_grid.fit(X_train_small_reg, y_train_small_reg)"
   ]
  },
  {
   "cell_type": "code",
   "execution_count": null,
   "id": "63a5f6bc-0714-48d9-9542-5663a1afc653",
   "metadata": {},
   "outputs": [],
   "source": [
    "# Обучение модели с лучшими параметрами от RandomizedSearchCV\n",
    "best_bag_reg_random = BaggingRegressor(estimator=RandomForestRegressor(), random_state=42, **best_params_random_bag_reg)\n",
    "best_bag_reg_random.fit(X_train_small_reg, y_train_small_reg)"
   ]
  },
  {
   "cell_type": "code",
   "execution_count": null,
   "id": "6d63c273-a5cf-4761-b7b2-0c3830c06b19",
   "metadata": {},
   "outputs": [],
   "source": [
    "# Обучение модели с лучшими параметрами от Optuna\n",
    "best_bag_reg_optuna = BaggingRegressor(estimator=RandomForestRegressor(), random_state=42, **best_params_optuna_bag_reg)\n",
    "best_bag_reg_optuna.fit(X_train_small_reg, y_train_small_reg)"
   ]
  },
  {
   "cell_type": "code",
   "execution_count": null,
   "id": "4de6d2eb-a6a8-4d4d-81b8-88fcf281cb0f",
   "metadata": {},
   "outputs": [],
   "source": [
    "y_pred_grid_bag_reg = best_bag_reg_grid.predict(X_test_reg)\n",
    "y_pred_random_bag_reg = best_bag_reg_random.predict(X_test_reg)\n",
    "y_pred_optuna_bag_reg = best_bag_reg_optuna.predict(X_test_reg)\n",
    "comparison_bag_reg = pd.DataFrame({\n",
    "    \"Метрика\": [\"MSE\", \"MAE\", \"R2\", \"MAPE\"],\n",
    "    \"GridSearch\": [\n",
    "        mean_squared_error(y_test_reg, y_pred_grid_bag_reg),\n",
    "        mean_absolute_error(y_test_reg, y_pred_grid_bag_reg),\n",
    "        r2_score(y_test_reg, y_pred_grid_bag_reg),\n",
    "        mean_absolute_percentage_error(y_test_reg, y_pred_grid_bag_reg)\n",
    "    ],\n",
    "    \"RandomSearch\": [\n",
    "        mean_squared_error(y_test_reg, y_pred_random_bag_reg),\n",
    "        mean_absolute_error(y_test_reg, y_pred_random_bag_reg),\n",
    "        r2_score(y_test_reg, y_pred_random_bag_reg),\n",
    "        mean_absolute_percentage_error(y_test_reg, y_pred_random_bag_reg)\n",
    "    ],\n",
    "    \"Optuna\": [\n",
    "        mean_squared_error(y_test_reg, y_pred_optuna_bag_reg),\n",
    "        mean_absolute_error(y_test_reg, y_pred_optuna_bag_reg),\n",
    "        r2_score(y_test_reg, y_pred_optuna_bag_reg),\n",
    "        mean_absolute_percentage_error(y_test_reg, y_pred_optuna_bag_reg)\n",
    "    ]\n",
    "})\n",
    "\n",
    "print(\"\\nСравнение методов подбора для BaggingRegressor:\")\n",
    "print(comparison_bag_reg)"
   ]
  },
  {
   "cell_type": "code",
   "execution_count": null,
   "id": "8a9023a0-903e-4054-bee8-b309ead842ab",
   "metadata": {},
   "outputs": [],
   "source": [
    "comparison_final_bag_reg_random = pd.DataFrame({\n",
    "    \"Метрика\": [\"MSE\", \"MAE\", \"R2\", \"MAPE\"],\n",
    "    \"RandomSearch\": [\n",
    "        mean_squared_error(y_test_reg, y_pred_random_bag_reg),\n",
    "        mean_absolute_error(y_test_reg, y_pred_random_bag_reg),\n",
    "        r2_score(y_test_reg, y_pred_random_bag_reg),\n",
    "        mean_absolute_percentage_error(y_test_reg, y_pred_random_bag_reg)\n",
    "    ]\n",
    "})\n",
    "\n",
    "print(\"\\nМетрики для модели BaggingRegressor с RandomizedSearchCV:\")\n",
    "print(comparison_final_bag_reg_random)"
   ]
  },
  {
   "cell_type": "markdown",
   "id": "a8688fb5-1053-4775-b970-babfcc1820bf",
   "metadata": {},
   "source": [
    "## Ансамбли из Scikit-learn: GradientBoostingRegressor GradientBoostingClassifier"
   ]
  },
  {
   "cell_type": "markdown",
   "id": "a143c208-70b1-4dc7-adc6-93b74e4882c8",
   "metadata": {},
   "source": [
    "Решите задачу регрессии и классификации на ваших данных с использованием ансамблей из Scikit-learn: \n",
    "- GradientBoostingRegressor \n",
    "- GradientBoostingClassifier"
   ]
  },
  {
   "cell_type": "markdown",
   "id": "ab826001-04d3-4b76-bd79-18578d18862d",
   "metadata": {},
   "source": [
    "### GradientBoostingClassifier"
   ]
  },
  {
   "cell_type": "code",
   "execution_count": null,
   "id": "82294db9-4f0b-4125-a6eb-bc21a8ed191c",
   "metadata": {},
   "outputs": [],
   "source": [
    "X_small_gb_clf, _, y_small_gb_clf, _ = train_test_split(X_train_clf, y_train_clf, train_size=0.002, stratify=y_train_clf, random_state=42)"
   ]
  },
  {
   "cell_type": "code",
   "execution_count": null,
   "id": "a371314f-b5a3-4455-9119-54b5100f8b72",
   "metadata": {},
   "outputs": [],
   "source": [
    "from sklearn.ensemble import GradientBoostingClassifier"
   ]
  },
  {
   "cell_type": "code",
   "execution_count": null,
   "id": "ab9cdc0e-0db4-4b10-a1db-a0631fcc8c97",
   "metadata": {},
   "outputs": [],
   "source": [
    "param_grid_gb_clf = {\n",
    "    'n_estimators': [50, 100],\n",
    "    'learning_rate': [0.05, 0.1],\n",
    "    'max_depth': [3, 5],\n",
    "    'min_samples_split': [2, 5],\n",
    "    'min_samples_leaf': [1, 2]\n",
    "}\n",
    "\n",
    "grid_gb_clf = GridSearchCV(GradientBoostingClassifier(random_state=42), param_grid_gb_clf,\n",
    "                           cv=3, scoring='f1', n_jobs=-1)\n",
    "grid_gb_clf.fit(X_small_gb_clf, y_small_gb_clf)\n",
    "best_params_grid_gb_clf = grid_gb_clf.best_params_"
   ]
  },
  {
   "cell_type": "code",
   "execution_count": null,
   "id": "60c871d5-f2c8-4646-ad59-786eb9913359",
   "metadata": {},
   "outputs": [],
   "source": [
    "param_dist_gb_clf = {\n",
    "    'n_estimators': randint(50, 150),\n",
    "    'learning_rate': uniform(0.01, 0.2),\n",
    "    'max_depth': randint(3, 10),\n",
    "    'min_samples_split': randint(2, 10),\n",
    "    'min_samples_leaf': randint(1, 5)\n",
    "}\n",
    "\n",
    "rand_gb_clf = RandomizedSearchCV(GradientBoostingClassifier(random_state=42), param_distributions=param_dist_gb_clf,\n",
    "                                 n_iter=30, cv=3, scoring='f1', n_jobs=-1, random_state=42)\n",
    "rand_gb_clf.fit(X_small_gb_clf, y_small_gb_clf)\n",
    "best_params_rand_gb_clf = rand_gb_clf.best_params_"
   ]
  },
  {
   "cell_type": "code",
   "execution_count": null,
   "id": "c9adab63-3d9f-4098-8432-5badebacc63e",
   "metadata": {},
   "outputs": [],
   "source": [
    "def objective_gb_clf(trial):\n",
    "    clf = GradientBoostingClassifier(\n",
    "        n_estimators=trial.suggest_int('n_estimators', 50, 150),\n",
    "        learning_rate=trial.suggest_float('learning_rate', 0.01, 0.2),\n",
    "        max_depth=trial.suggest_int('max_depth', 3, 10),\n",
    "        min_samples_split=trial.suggest_int('min_samples_split', 2, 10),\n",
    "        min_samples_leaf=trial.suggest_int('min_samples_leaf', 1, 5),\n",
    "        random_state=42\n",
    "    )\n",
    "    score = cross_val_score(clf, X_small_gb_clf, y_small_gb_clf, cv=3, scoring='f1').mean()\n",
    "    return score\n",
    "\n",
    "study_gb_clf = optuna.create_study(direction='maximize')\n",
    "study_gb_clf.optimize(objective_gb_clf, n_trials=30)\n",
    "best_params_optuna_gb_clf = study_gb_clf.best_params"
   ]
  },
  {
   "cell_type": "code",
   "execution_count": null,
   "id": "a4388e1c-8ac3-4a7f-af3c-5c0a96dafb01",
   "metadata": {},
   "outputs": [],
   "source": [
    "grid_gb_clf_final = GradientBoostingClassifier(**best_params_grid_gb_clf, random_state=42)\n",
    "grid_gb_clf_final.fit(X_train_clf, y_train_clf)\n",
    "\n",
    "rand_gb_clf_final = GradientBoostingClassifier(**best_params_rand_gb_clf, random_state=42)\n",
    "rand_gb_clf_final.fit(X_train_clf, y_train_clf)\n",
    "\n",
    "optuna_gb_clf_final = GradientBoostingClassifier(**best_params_optuna_gb_clf, random_state=42)\n",
    "optuna_gb_clf_final.fit(X_train_clf, y_train_clf)"
   ]
  },
  {
   "cell_type": "code",
   "execution_count": null,
   "id": "285bd319-ef52-472b-9ec5-0e0ab86ad2ba",
   "metadata": {},
   "outputs": [],
   "source": [
    "def get_metrics(model, X_test, y_test):\n",
    "    y_pred = model.predict(X_test)\n",
    "    return {\n",
    "        'Accuracy': accuracy_score(y_test, y_pred),\n",
    "        'Precision': precision_score(y_test, y_pred),\n",
    "        'Recall': recall_score(y_test, y_pred),\n",
    "        'F1': f1_score(y_test, y_pred)\n",
    "    }\n",
    "\n",
    "metrics_gb_clf = pd.DataFrame({\n",
    "    'Метрика': ['Accuracy', 'Precision', 'Recall', 'F1'],\n",
    "    'GridSearch': list(get_metrics(grid_gb_clf_final, X_test_clf, y_test_clf).values()),\n",
    "    'RandomSearch': list(get_metrics(rand_gb_clf_final, X_test_clf, y_test_clf).values()),\n",
    "    'Optuna': list(get_metrics(optuna_gb_clf_final, X_test_clf, y_test_clf).values())\n",
    "})\n",
    "print(\"\\nСравнение метрик для GradientBoostingClassifier:\")\n",
    "print(metrics_gb_clf)"
   ]
  },
  {
   "cell_type": "code",
   "execution_count": null,
   "id": "ee150346-3f3d-462f-aaa8-daab98565f81",
   "metadata": {},
   "outputs": [],
   "source": [
    "metrics_gb_clff = pd.DataFrame({\n",
    "    'Метрика': ['Accuracy', 'Precision', 'Recall', 'F1'],\n",
    "    'GridSearch': list(get_metrics(grid_gb_clf_final, X_test_clf, y_test_clf).values()),\n",
    "})\n",
    "print(\"\\nЛучшая метрика GridSearch:\")\n",
    "print(metrics_gb_clff)"
   ]
  },
  {
   "cell_type": "markdown",
   "id": "48d713a4-6d83-4523-be3b-77e6c0637731",
   "metadata": {},
   "source": [
    "### GradientBoostingRegressor"
   ]
  },
  {
   "cell_type": "code",
   "execution_count": null,
   "id": "5d2007b8-d199-49ff-92b5-8bb176fac0e8",
   "metadata": {},
   "outputs": [],
   "source": [
    "X_small_gb_reg = X_train_reg.sample(frac=0.01, random_state=42)\n",
    "y_small_gb_reg = y_train_reg.loc[X_small_gb_reg.index]"
   ]
  },
  {
   "cell_type": "code",
   "execution_count": null,
   "id": "16fcd75e-7e47-44c1-a5a6-ad00badd522e",
   "metadata": {},
   "outputs": [],
   "source": [
    "param_grid_gb_reg = {\n",
    "    'n_estimators': [50, 100, 150],\n",
    "    'learning_rate': [0.01, 0.05, 0.1],\n",
    "    'max_depth': [3, 5, 7],\n",
    "    'subsample': [0.7, 0.9, 1.0]\n",
    "}\n",
    "grid_gb_reg = GridSearchCV(GradientBoostingRegressor(random_state=42),\n",
    "                           param_grid=param_grid_gb_reg,\n",
    "                           cv=3,\n",
    "                           scoring='neg_mean_squared_error',\n",
    "                           n_jobs=-1)\n",
    "grid_gb_reg.fit(X_small_gb_reg, y_small_gb_reg)\n",
    "best_params_grid_gb_reg = grid_gb_reg.best_params_"
   ]
  },
  {
   "cell_type": "code",
   "execution_count": null,
   "id": "a4f0c0ff-1915-43b1-b06d-f42004904688",
   "metadata": {},
   "outputs": [],
   "source": [
    "param_dist_gb_reg = {\n",
    "    'n_estimators': randint(50, 200),\n",
    "    'learning_rate': uniform(0.01, 0.1),\n",
    "    'max_depth': randint(3, 10),\n",
    "    'subsample': uniform(0.7, 1.0)\n",
    "}\n",
    "rand_gb_reg = RandomizedSearchCV(GradientBoostingRegressor(random_state=42),\n",
    "                                 param_distributions=param_dist_gb_reg,\n",
    "                                 n_iter=30,\n",
    "                                 cv=3,\n",
    "                                 scoring='neg_mean_squared_error',\n",
    "                                 random_state=42,\n",
    "                                 n_jobs=-1)\n",
    "rand_gb_reg.fit(X_small_gb_reg, y_small_gb_reg)\n",
    "best_params_rand_gb_reg = rand_gb_reg.best_params_"
   ]
  },
  {
   "cell_type": "code",
   "execution_count": null,
   "id": "c3af1c3b-ce2c-4dc9-b677-36cc2543adbd",
   "metadata": {},
   "outputs": [],
   "source": [
    "def objective_gb_reg(trial):\n",
    "    reg = GradientBoostingRegressor(\n",
    "        n_estimators=trial.suggest_int(\"n_estimators\", 50, 200),\n",
    "        learning_rate=trial.suggest_float(\"learning_rate\", 0.01, 0.1),\n",
    "        max_depth=trial.suggest_int(\"max_depth\", 3, 10),\n",
    "        subsample=trial.suggest_float(\"subsample\", 0.7, 1.0),\n",
    "        random_state=42\n",
    "    )\n",
    "    return cross_val_score(reg, X_small_gb_reg, y_small_gb_reg, cv=3, scoring='neg_mean_squared_error').mean()\n",
    "\n",
    "study_gb_reg = optuna.create_study(direction='maximize')\n",
    "study_gb_reg.optimize(objective_gb_reg, n_trials=30)\n",
    "best_params_optuna_gb_reg = study_gb_reg.best_params"
   ]
  },
  {
   "cell_type": "code",
   "execution_count": null,
   "id": "6a7c7cf9-45a9-431b-85ba-02c271d8992b",
   "metadata": {},
   "outputs": [],
   "source": [
    "grid_gb_reg_final = GradientBoostingRegressor(**best_params_grid_gb_reg, random_state=42)\n",
    "rand_gb_reg_final = GradientBoostingRegressor(**best_params_rand_gb_reg, random_state=42)\n",
    "optuna_gb_reg_final = GradientBoostingRegressor(**best_params_optuna_gb_reg, random_state=42)\n",
    "\n",
    "grid_gb_reg_final.fit(X_train_reg, y_train_reg)\n",
    "rand_gb_reg_final.fit(X_train_reg, y_train_reg)\n",
    "optuna_gb_reg_final.fit(X_train_reg, y_train_reg)"
   ]
  },
  {
   "cell_type": "code",
   "execution_count": null,
   "id": "a93dfc4d-6420-41cc-84c7-a09c7ad97c83",
   "metadata": {},
   "outputs": [],
   "source": [
    "y_pred_grid_gb_reg = grid_gb_reg_final.predict(X_test_reg)\n",
    "y_pred_rand_gb_reg = rand_gb_reg_final.predict(X_test_reg)\n",
    "y_pred_optuna_gb_reg = optuna_gb_reg_final.predict(X_test_reg)\n",
    "\n",
    "metrics_gb_reg = pd.DataFrame({\n",
    "    \"Метрика\": [\"MSE\", \"MAE\", \"R2\", \"MAPE\"],\n",
    "    \"GridSearch\": [\n",
    "        mean_squared_error(y_test_reg, y_pred_grid_gb_reg),\n",
    "        mean_absolute_error(y_test_reg, y_pred_grid_gb_reg),\n",
    "        r2_score(y_test_reg, y_pred_grid_gb_reg),\n",
    "        mean_absolute_percentage_error(y_test_reg, y_pred_grid_gb_reg)\n",
    "    ],\n",
    "    \"RandomSearch\": [\n",
    "        mean_squared_error(y_test_reg, y_pred_rand_gb_reg),\n",
    "        mean_absolute_error(y_test_reg, y_pred_rand_gb_reg),\n",
    "        r2_score(y_test_reg, y_pred_rand_gb_reg),\n",
    "        mean_absolute_percentage_error(y_test_reg, y_pred_rand_gb_reg)\n",
    "    ],\n",
    "    \"Optuna\": [\n",
    "        mean_squared_error(y_test_reg, y_pred_optuna_gb_reg),\n",
    "        mean_absolute_error(y_test_reg, y_pred_optuna_gb_reg),\n",
    "        r2_score(y_test_reg, y_pred_optuna_gb_reg),\n",
    "        mean_absolute_percentage_error(y_test_reg, y_pred_optuna_gb_reg)\n",
    "    ]\n",
    "})\n",
    "\n",
    "print(\"\\nСравнение моделей GradientBoostingRegressor:\")\n",
    "print(metrics_gb_reg)"
   ]
  },
  {
   "cell_type": "code",
   "execution_count": null,
   "id": "69d1b7e9-7c64-47c4-b2d9-76cce2b3c0ff",
   "metadata": {},
   "outputs": [],
   "source": [
    "metrics_gb_regf = pd.DataFrame({\n",
    "    \"Optuna\": [\n",
    "        mean_squared_error(y_test_reg, y_pred_optuna_gb_reg),\n",
    "        mean_absolute_error(y_test_reg, y_pred_optuna_gb_reg),\n",
    "        r2_score(y_test_reg, y_pred_optuna_gb_reg),\n",
    "        mean_absolute_percentage_error(y_test_reg, y_pred_optuna_gb_reg)\n",
    "    ]\n",
    "})\n",
    "\n",
    "print(\"\\nЛучшая метрика для GradientBoostingRegressor:\")\n",
    "print(metrics_gb_regf)"
   ]
  },
  {
   "cell_type": "markdown",
   "id": "e22a248f-e1cf-4367-82bc-9bc90cfb467e",
   "metadata": {},
   "source": [
    "## Ансамбли из Scikit-learn: StackingRegressor StackingClassifier "
   ]
  },
  {
   "cell_type": "markdown",
   "id": "1c00ed76-5950-44fa-b135-a559af922788",
   "metadata": {},
   "source": [
    "Решите задачу регрессии и классификации на ваших данных с использованием ансамблей из Scikit-learn: \n",
    "- StackingRegressor \n",
    "- StackingClassifier "
   ]
  },
  {
   "cell_type": "markdown",
   "id": "8eb3e750-1b13-4512-ac3b-9bc62d85528f",
   "metadata": {},
   "source": [
    "### StackingClassifier "
   ]
  },
  {
   "cell_type": "code",
   "execution_count": null,
   "id": "79e9f2e9-7d5f-4914-a0e8-173c6fa80a63",
   "metadata": {},
   "outputs": [],
   "source": [
    "X_small_stack_clf = X_train_clf.sample(frac=0.01, random_state=42)\n",
    "y_small_stack_clf = y_train_clf.loc[X_small_stack_clf.index]"
   ]
  },
  {
   "cell_type": "code",
   "execution_count": null,
   "id": "f7ae926d-b2cb-4b96-a367-39dca555bee2",
   "metadata": {},
   "outputs": [],
   "source": [
    "estimators = [\n",
    "    ('dt', DecisionTreeClassifier(random_state=42)),\n",
    "    ('rf', RandomForestClassifier(random_state=42)),\n",
    "    ('lr', LogisticRegression(random_state=42, max_iter=1000))\n",
    "]\n",
    "\n",
    "param_grid_stack_clf = {\n",
    "    'cv': [3, 5],\n",
    "    'stack_method': ['auto', 'predict_proba'],\n",
    "    'passthrough': [True, False]\n",
    "}\n",
    "\n",
    "grid_stack_clf = GridSearchCV(\n",
    "    StackingClassifier(estimators=estimators, final_estimator=LogisticRegression(), n_jobs=-1),\n",
    "    param_grid_stack_clf,\n",
    "    scoring='f1',\n",
    "    cv=3,\n",
    "    n_jobs=-1\n",
    ")\n",
    "\n",
    "grid_stack_clf.fit(X_small_stack_clf, y_small_stack_clf)\n",
    "best_params_grid_stack_clf = grid_stack_clf.best_params_\n",
    "print(\"GridSearch лучшие параметры:\", best_params_grid_stack_clf)"
   ]
  },
  {
   "cell_type": "code",
   "execution_count": null,
   "id": "a42bcd42-b18a-49ec-8dcb-fbb7d7ace7fc",
   "metadata": {},
   "outputs": [],
   "source": [
    "param_dist_stack_clf = {\n",
    "    'cv': [3, 4, 5],\n",
    "    'stack_method': ['auto', 'predict_proba'],\n",
    "    'passthrough': [True, False]\n",
    "}\n",
    "\n",
    "random_stack_clf = RandomizedSearchCV(\n",
    "    StackingClassifier(estimators=estimators, final_estimator=LogisticRegression(), n_jobs=-1),\n",
    "    param_distributions=param_dist_stack_clf,\n",
    "    n_iter=10,\n",
    "    cv=3,\n",
    "    scoring='f1',\n",
    "    random_state=42,\n",
    "    n_jobs=-1\n",
    ")\n",
    "\n",
    "random_stack_clf.fit(X_small_stack_clf, y_small_stack_clf)\n",
    "best_params_random_stack_clf = random_stack_clf.best_params_\n",
    "print(\"RandomizedSearch лучшие параметры:\", best_params_random_stack_clf)"
   ]
  },
  {
   "cell_type": "code",
   "execution_count": null,
   "id": "99af6fb6-3b71-4e2a-b3c4-a9cd35b33bad",
   "metadata": {},
   "outputs": [],
   "source": [
    "def objective_stack_clf(trial):\n",
    "    clf = StackingClassifier(\n",
    "        estimators=estimators,\n",
    "        final_estimator=LogisticRegression(),\n",
    "        cv=trial.suggest_categorical('cv', [3, 4, 5]),\n",
    "        stack_method=trial.suggest_categorical('stack_method', ['auto', 'predict_proba']),\n",
    "        passthrough=trial.suggest_categorical('passthrough', [True, False]),\n",
    "        n_jobs=-1\n",
    "    )\n",
    "    return cross_val_score(clf, X_small_stack_clf, y_small_stack_clf, scoring='f1', cv=3).mean()\n",
    "\n",
    "study_stack_clf = optuna.create_study(direction='maximize')\n",
    "study_stack_clf.optimize(objective_stack_clf, n_trials=10)\n",
    "best_params_optuna_stack_clf = study_stack_clf.best_params\n",
    "print(\"Optuna лучшие параметры:\", best_params_optuna_stack_clf)"
   ]
  },
  {
   "cell_type": "code",
   "execution_count": null,
   "id": "5a308fe0-77fc-495c-af2f-ca44dd464efc",
   "metadata": {},
   "outputs": [],
   "source": [
    "final_stack_grid_clf = StackingClassifier(**best_params_grid_stack_clf, estimators=estimators, final_estimator=LogisticRegression(), n_jobs=-1)\n",
    "final_stack_grid_clf.fit(X_train_clf, y_train_clf)\n",
    "\n",
    "final_stack_random_clf = StackingClassifier(**best_params_random_stack_clf, estimators=estimators, final_estimator=LogisticRegression(), n_jobs=-1)\n",
    "final_stack_random_clf.fit(X_train_clf, y_train_clf)\n",
    "\n",
    "final_stack_optuna_clf = StackingClassifier(**best_params_optuna_stack_clf, estimators=estimators, final_estimator=LogisticRegression(), n_jobs=-1)\n",
    "final_stack_optuna_clf.fit(X_train_clf, y_train_clf)"
   ]
  },
  {
   "cell_type": "code",
   "execution_count": null,
   "id": "a5729cf6-d0c3-4080-a889-0fad1203c0cc",
   "metadata": {},
   "outputs": [],
   "source": [
    "y_pred_grid = final_stack_grid_clf.predict(X_test_clf)\n",
    "y_pred_random = final_stack_random_clf.predict(X_test_clf)\n",
    "y_pred_optuna = final_stack_optuna_clf.predict(X_test_clf)\n",
    "\n",
    "comparison_stack_clf = pd.DataFrame({\n",
    "    \"Метрика\": [\"Accuracy\", \"Precision\", \"Recall\", \"F1\"],\n",
    "    \"GridSearch\": [\n",
    "        accuracy_score(y_test_clf, y_pred_grid),\n",
    "        precision_score(y_test_clf, y_pred_grid),\n",
    "        recall_score(y_test_clf, y_pred_grid),\n",
    "        f1_score(y_test_clf, y_pred_grid)\n",
    "    ],\n",
    "    \"RandomSearch\": [\n",
    "        accuracy_score(y_test_clf, y_pred_random),\n",
    "        precision_score(y_test_clf, y_pred_random),\n",
    "        recall_score(y_test_clf, y_pred_random),\n",
    "        f1_score(y_test_clf, y_pred_random)\n",
    "    ],\n",
    "    \"Optuna\": [\n",
    "        accuracy_score(y_test_clf, y_pred_optuna),\n",
    "        precision_score(y_test_clf, y_pred_optuna),\n",
    "        recall_score(y_test_clf, y_pred_optuna),\n",
    "        f1_score(y_test_clf, y_pred_optuna)\n",
    "    ]\n",
    "})\n",
    "\n",
    "print(\"Сравнение моделей StackingClassifier:\")\n",
    "print(comparison_stack_clf)"
   ]
  },
  {
   "cell_type": "code",
   "execution_count": null,
   "id": "2df26669-c06a-4207-a2ef-809f55d5956a",
   "metadata": {},
   "outputs": [],
   "source": [
    "comparison_stack_clff = pd.DataFrame({\n",
    "    \"RandomSearch\": [\n",
    "        accuracy_score(y_test_clf, y_pred_random),\n",
    "        precision_score(y_test_clf, y_pred_random),\n",
    "        recall_score(y_test_clf, y_pred_random),\n",
    "        f1_score(y_test_clf, y_pred_random)\n",
    "    ]\n",
    "})\n",
    "\n",
    "print(\"Лучшая метрика для StackingClassifier:\")\n",
    "print(comparison_stack_clff)"
   ]
  },
  {
   "cell_type": "markdown",
   "id": "ed888752-5791-4c90-a7e9-7d4d39f19ae2",
   "metadata": {},
   "source": [
    "### StackingRegressor"
   ]
  },
  {
   "cell_type": "code",
   "execution_count": null,
   "id": "ce694bb7-9567-43d9-99d5-718ed3a633c2",
   "metadata": {},
   "outputs": [],
   "source": [
    "X_small_stack_reg = X_train_reg.sample(frac=0.01, random_state=42)\n",
    "y_small_stack_reg = y_train_reg.loc[X_small_stack_reg.index]"
   ]
  },
  {
   "cell_type": "code",
   "execution_count": null,
   "id": "e5139f8e-b97f-4c73-994a-5e4442eeb799",
   "metadata": {},
   "outputs": [],
   "source": [
    "regressors = [\n",
    "    ('dt', DecisionTreeClassifier(random_state=42)),\n",
    "    ('rf', RandomForestClassifier(random_state=42)),\n",
    "    ('lr', LogisticRegression(random_state=42, max_iter=1000))\n",
    "]\n",
    "]\n",
    "\n",
    "param_grid_stack_reg = {\n",
    "    'cv': [3, 5],\n",
    "    'passthrough': [True, False]\n",
    "}\n",
    "\n",
    "grid_stack_reg = GridSearchCV(\n",
    "    StackingRegressor(estimators=regressors, final_estimator=Ridge(), n_jobs=-1),\n",
    "    param_grid=param_grid_stack_reg,\n",
    "    cv=3,\n",
    "    scoring='r2',\n",
    "    n_jobs=-1\n",
    ")\n",
    "\n",
    "grid_stack_reg.fit(X_small_stack_reg, y_small_stack_reg)\n",
    "best_params_grid_stack_reg = grid_stack_reg.best_params_\n",
    "print(\"GridSearch лучшие параметры:\", best_params_grid_stack_reg)"
   ]
  },
  {
   "cell_type": "code",
   "execution_count": null,
   "id": "1ba8a832-586f-4368-b951-933569149196",
   "metadata": {},
   "outputs": [],
   "source": [
    "param_dist_stack_reg = {\n",
    "    'cv': [3, 4, 5],\n",
    "    'passthrough': [True, False]\n",
    "}\n",
    "\n",
    "random_stack_reg = RandomizedSearchCV(\n",
    "    StackingRegressor(estimators=regressors, final_estimator=Ridge(), n_jobs=-1),\n",
    "    param_distributions=param_dist_stack_reg,\n",
    "    n_iter=10,\n",
    "    cv=3,\n",
    "    scoring='r2',\n",
    "    random_state=42,\n",
    "    n_jobs=-1\n",
    ")\n",
    "\n",
    "random_stack_reg.fit(X_small_stack_reg, y_small_stack_reg)\n",
    "best_params_random_stack_reg = random_stack_reg.best_params_\n",
    "print(\"RandomizedSearch лучшие параметры:\", best_params_random_stack_reg)"
   ]
  },
  {
   "cell_type": "code",
   "execution_count": null,
   "id": "45aba31a-5a19-455e-9b11-81b975937002",
   "metadata": {},
   "outputs": [],
   "source": [
    "def objective_stack_reg(trial):\n",
    "    reg = StackingRegressor(\n",
    "        estimators=regressors,\n",
    "        final_estimator=Ridge(),\n",
    "        cv=trial.suggest_categorical('cv', [3, 4, 5]),\n",
    "        passthrough=trial.suggest_categorical('passthrough', [True, False]),\n",
    "        n_jobs=-1\n",
    "    )\n",
    "    return cross_val_score(reg, X_small_stack_reg, y_small_stack_reg, scoring='r2', cv=3).mean()\n",
    "\n",
    "study_stack_reg = optuna.create_study(direction='maximize')\n",
    "study_stack_reg.optimize(objective_stack_reg, n_trials=10)\n",
    "best_params_optuna_stack_reg = study_stack_reg.best_params\n",
    "print(\"Optuna лучшие параметры:\", best_params_optuna_stack_reg)"
   ]
  },
  {
   "cell_type": "code",
   "execution_count": null,
   "id": "3ca11973-c2a6-4060-a27b-66ee3795a5fd",
   "metadata": {},
   "outputs": [],
   "source": [
    "final_stack_grid_reg = StackingRegressor(**best_params_grid_stack_reg, estimators=regressors, final_estimator=Ridge(), n_jobs=-1)\n",
    "final_stack_grid_reg.fit(X_train_reg, y_train_reg)\n",
    "\n",
    "final_stack_random_reg = StackingRegressor(**best_params_random_stack_reg, estimators=regressors, final_estimator=Ridge(), n_jobs=-1)\n",
    "final_stack_random_reg.fit(X_train_reg, y_train_reg)\n",
    "\n",
    "final_stack_optuna_reg = StackingRegressor(**best_params_optuna_stack_reg, estimators=regressors,final_estimator=Ridge(), n_jobs=-1)\n",
    "final_stack_optuna_reg.fit(X_train_reg, y_train_reg)"
   ]
  },
  {
   "cell_type": "code",
   "execution_count": null,
   "id": "b7403366-1c61-4005-b1e7-b5b26aa88b2d",
   "metadata": {},
   "outputs": [],
   "source": [
    "y_pred_grid_reg = final_stack_grid_reg.predict(X_test_reg)\n",
    "y_pred_random_reg = final_stack_random_reg.predict(X_test_reg)\n",
    "y_pred_optuna_reg = final_stack_optuna_reg.predict(X_test_reg)\n",
    "\n",
    "comparison_stack_reg = pd.DataFrame({\n",
    "    \"Метрика\": [\"MSE\", \"MAE\", \"R2\", \"MAPE\"],\n",
    "    \"GridSearch\": [\n",
    "        mean_squared_error(y_test_reg, y_pred_grid_reg),\n",
    "        mean_absolute_error(y_test_reg, y_pred_grid_reg),\n",
    "        r2_score(y_test_reg, y_pred_grid_reg),\n",
    "        mean_absolute_percentage_error(y_test_reg, y_pred_grid_reg)\n",
    "    ],\n",
    "    \"RandomSearch\": [\n",
    "        mean_squared_error(y_test_reg, y_pred_random_reg),\n",
    "        mean_absolute_error(y_test_reg, y_pred_random_reg),\n",
    "        r2_score(y_test_reg, y_pred_random_reg),\n",
    "        mean_absolute_percentage_error(y_test_reg, y_pred_random_reg)\n",
    "    ],\n",
    "    \"Optuna\": [\n",
    "        mean_squared_error(y_test_reg, y_pred_optuna_reg),\n",
    "        mean_absolute_error(y_test_reg, y_pred_optuna_reg),\n",
    "        r2_score(y_test_reg, y_pred_optuna_reg),\n",
    "        mean_absolute_percentage_error(y_test_reg, y_pred_optuna_reg)\n",
    "    ]\n",
    "})\n",
    "\n",
    "print(\"Сравнение моделей StackingRegressor:\")\n",
    "print(comparison_stack_reg)"
   ]
  },
  {
   "cell_type": "code",
   "execution_count": null,
   "id": "e294d6c2-84b7-41d4-a0ba-d89573e05ba2",
   "metadata": {},
   "outputs": [],
   "source": [
    "comparison_stack_regf = pd.DataFrame({\n",
    "    \"Метрика\": [\"MSE\", \"MAE\", \"R2\", \"MAPE\"],\n",
    "    \"GridSearch\": [\n",
    "        mean_squared_error(y_test_reg, y_pred_grid_reg),\n",
    "        mean_absolute_error(y_test_reg, y_pred_grid_reg),\n",
    "        r2_score(y_test_reg, y_pred_grid_reg),\n",
    "        mean_absolute_percentage_error(y_test_reg, y_pred_grid_reg)\n",
    "    ]\n",
    "})\n",
    "\n",
    "print(\"Лучшая метрика для StackingRegressor:\")\n",
    "print(comparison_stack_regf)"
   ]
  },
  {
   "cell_type": "markdown",
   "id": "8bcb8afe-2914-413f-aa6a-1a85b7c14613",
   "metadata": {},
   "source": [
    "## Градиентный бустинг над деревьями решений: CatBoost"
   ]
  },
  {
   "cell_type": "markdown",
   "id": "46e879e9-9ca7-4d8d-bac2-1909555006a3",
   "metadata": {},
   "source": [
    "Решите задачу регрессии и классификации на ваших данных с использованием библиотек градиентного бустинга над деревьями решений: \n",
    "- CatBoost"
   ]
  },
  {
   "cell_type": "markdown",
   "id": "ccc8c219-3f03-4878-9989-ee79254f68f7",
   "metadata": {},
   "source": [
    "### CatBoost.Классификация"
   ]
  },
  {
   "cell_type": "code",
   "execution_count": null,
   "id": "e2b1bd33-70d1-4207-9785-2b4e72cc2138",
   "metadata": {},
   "outputs": [],
   "source": [
    "X_small_cat_clf, _, y_small_cat_clf, _ = train_test_split(X_train_clf, y_train_clf, train_size=0.01, random_state=42, stratify=y_train_clf)"
   ]
  },
  {
   "cell_type": "code",
   "execution_count": null,
   "id": "6233e279-8f13-4de3-8df1-7db82e73e2e0",
   "metadata": {},
   "outputs": [],
   "source": [
    "param_grid_cat_clf = {\n",
    "    'iterations': [100, 200],\n",
    "    'depth': [4, 6, 8],\n",
    "    'learning_rate': [0.01, 0.05, 0.1],\n",
    "    'l2_leaf_reg': [1, 3, 5]\n",
    "}\n",
    "\n",
    "grid_cat_clf = GridSearchCV(\n",
    "    CatBoostClassifier(verbose=0, random_state=42),\n",
    "    param_grid_cat_clf,\n",
    "    cv=3,\n",
    "    scoring='f1',\n",
    "    n_jobs=-1\n",
    ")\n",
    "grid_cat_clf.fit(X_small_cat_clf, y_small_cat_clf)\n",
    "best_params_grid_cat_clf = grid_cat_clf.best_params_"
   ]
  },
  {
   "cell_type": "code",
   "execution_count": null,
   "id": "00451c1d-d170-468d-8823-9d19c7545ae5",
   "metadata": {},
   "outputs": [],
   "source": [
    "param_dist_cat_clf = {\n",
    "    'iterations': randint(100, 300),\n",
    "    'depth': randint(3, 10),\n",
    "    'learning_rate': uniform(0.01, 0.2),\n",
    "    'l2_leaf_reg': randint(1, 10)\n",
    "}\n",
    "\n",
    "random_cat_clf = RandomizedSearchCV(\n",
    "    CatBoostClassifier(verbose=0, random_state=42),\n",
    "    param_distributions=param_dist_cat_clf,\n",
    "    n_iter=30,\n",
    "    cv=3,\n",
    "    scoring='f1',\n",
    "    random_state=42,\n",
    "    n_jobs=-1\n",
    ")\n",
    "random_cat_clf.fit(X_small_cat_clf, y_small_cat_clf)\n",
    "best_params_random_cat_clf = random_cat_clf.best_params_"
   ]
  },
  {
   "cell_type": "code",
   "execution_count": null,
   "id": "d1438951-5882-4cf3-b847-786975c0ebad",
   "metadata": {},
   "outputs": [],
   "source": [
    "def objective_cat_clf(trial):\n",
    "    model = CatBoostClassifier(\n",
    "        iterations=trial.suggest_int(\"iterations\", 100, 300),\n",
    "        depth=trial.suggest_int(\"depth\", 3, 10),\n",
    "        learning_rate=trial.suggest_float(\"learning_rate\", 0.01, 0.2),\n",
    "        l2_leaf_reg=trial.suggest_int(\"l2_leaf_reg\", 1, 10),\n",
    "        verbose=0,\n",
    "        random_state=42\n",
    "    )\n",
    "    score = cross_val_score(model, X_small_cat_clf, y_small_cat_clf, cv=3, scoring='f1').mean()\n",
    "    return score\n",
    "\n",
    "study_cat_clf = optuna.create_study(direction=\"maximize\")\n",
    "study_cat_clf.optimize(objective_cat_clf, n_trials=30)\n",
    "best_params_optuna_cat_clf = study_cat_clf.best_params"
   ]
  },
  {
   "cell_type": "code",
   "execution_count": null,
   "id": "c5d05a9a-1a71-4ec8-b118-dfcd9ad4dd77",
   "metadata": {},
   "outputs": [],
   "source": [
    "final_cat_grid_clf = CatBoostClassifier(**best_params_grid_cat_clf, verbose=0, random_state=42)\n",
    "final_cat_grid_clf.fit(X_train_clf, y_train_clf)\n",
    "\n",
    "final_cat_random_clf = CatBoostClassifier(**best_params_random_cat_clf, verbose=0, random_state=42)\n",
    "final_cat_random_clf.fit(X_train_clf, y_train_clf)\n",
    "\n",
    "final_cat_optuna_clf = CatBoostClassifier(**best_params_optuna_cat_clf, verbose=0, random_state=42)\n",
    "final_cat_optuna_clf.fit(X_train_clf, y_train_clf)"
   ]
  },
  {
   "cell_type": "code",
   "execution_count": null,
   "id": "c0be496a-9d85-4c8d-99a7-0089374107a5",
   "metadata": {},
   "outputs": [],
   "source": [
    "pred_grid = final_cat_grid_clf.predict(X_test_clf)\n",
    "pred_rand = final_cat_random_clf.predict(X_test_clf)\n",
    "pred_optuna = final_cat_optuna_clf.predict(X_test_clf)\n",
    "\n",
    "comparison_cat_clf = pd.DataFrame({\n",
    "    \"Метрика\": [\"Accuracy\", \"Precision\", \"Recall\", \"F1\"],\n",
    "    \"GridSearch\": [\n",
    "        accuracy_score(y_test_clf, pred_grid),\n",
    "        precision_score(y_test_clf, pred_grid),\n",
    "        recall_score(y_test_clf, pred_grid),\n",
    "        f1_score(y_test_clf, pred_grid)\n",
    "    ],\n",
    "    \"RandomSearch\": [\n",
    "        accuracy_score(y_test_clf, pred_rand),\n",
    "        precision_score(y_test_clf, pred_rand),\n",
    "        recall_score(y_test_clf, pred_rand),\n",
    "        f1_score(y_test_clf, pred_rand)\n",
    "    ],\n",
    "    \"Optuna\": [\n",
    "        accuracy_score(y_test_clf, pred_optuna),\n",
    "        precision_score(y_test_clf, pred_optuna),\n",
    "        recall_score(y_test_clf, pred_optuna),\n",
    "        f1_score(y_test_clf, pred_optuna)\n",
    "    ]\n",
    "})\n",
    "\n",
    "print(\"Сравнение CatBoostClassifier:\")\n",
    "print(comparison_cat_clf)"
   ]
  },
  {
   "cell_type": "code",
   "execution_count": null,
   "id": "ce1f7d16-c665-44e0-848b-b2fcb0cced27",
   "metadata": {},
   "outputs": [],
   "source": [
    "comparison_cat_clf = pd.DataFrame({\n",
    "    \"Метрика\": [\"Accuracy\", \"Precision\", \"Recall\", \"F1\"],\n",
    "    \"RandomSearch\": [\n",
    "        accuracy_score(y_test_clf, pred_rand),\n",
    "        precision_score(y_test_clf, pred_rand),\n",
    "        recall_score(y_test_clf, pred_rand),\n",
    "        f1_score(y_test_clf, pred_rand)\n",
    "    ]\n",
    "})\n",
    "\n",
    "print(\"Лучшая метрика для CatBoostClassifier:\")\n",
    "print(comparison_cat_clf)"
   ]
  },
  {
   "cell_type": "markdown",
   "id": "28328433-6e15-4ae4-b80d-61b887eef276",
   "metadata": {},
   "source": [
    "### CatBoost. Регрессия"
   ]
  },
  {
   "cell_type": "code",
   "execution_count": null,
   "id": "ecc30d4e-10e5-493b-895d-989f20f8c385",
   "metadata": {},
   "outputs": [],
   "source": [
    "X_small_cat_reg, _, y_small_cat_reg, _ = train_test_split(X_train_reg, y_train_reg,\n",
    "                                                          train_size=0.01,\n",
    "                                                          random_state=42)"
   ]
  },
  {
   "cell_type": "code",
   "execution_count": null,
   "id": "0846dd6b-2745-4637-8276-7b70e2813442",
   "metadata": {},
   "outputs": [],
   "source": [
    "param_grid_cat_reg = {\n",
    "    'iterations': [100, 200],\n",
    "    'learning_rate': [0.01, 0.05, 0.1],\n",
    "    'depth': [4, 6, 8],\n",
    "    'l2_leaf_reg': [1, 3, 5]\n",
    "}\n",
    "grid_cat_reg = GridSearchCV(\n",
    "    CatBoostRegressor(verbose=0, random_state=42),\n",
    "    param_grid=param_grid_cat_reg,\n",
    "    cv=3,\n",
    "    scoring='neg_mean_squared_error',\n",
    "    n_jobs=-1\n",
    ")\n",
    "grid_cat_reg.fit(X_small_cat_reg, y_small_cat_reg)\n",
    "best_params_grid_cat_reg = grid_cat_reg.best_params_\n",
    "print(\"GridSearch лучшие параметры (CatBoostRegressor):\", best_params_grid_cat_reg)"
   ]
  },
  {
   "cell_type": "code",
   "execution_count": null,
   "id": "de20e28c-50ac-404f-98e2-02bbc68164ce",
   "metadata": {},
   "outputs": [],
   "source": [
    "param_dist_cat_reg = {\n",
    "    'iterations': randint(100, 300),\n",
    "    'learning_rate': uniform(0.01, 0.1),\n",
    "    'depth': randint(3, 10),\n",
    "    'l2_leaf_reg': randint(1, 10)\n",
    "}\n",
    "random_cat_reg = RandomizedSearchCV(\n",
    "    CatBoostRegressor(verbose=0, random_state=42),\n",
    "    param_distributions=param_dist_cat_reg,\n",
    "    n_iter=30,\n",
    "    cv=3,\n",
    "    scoring='neg_mean_squared_error',\n",
    "    random_state=42,\n",
    "    n_jobs=-1\n",
    ")\n",
    "random_cat_reg.fit(X_small_cat_reg, y_small_cat_reg)\n",
    "best_params_random_cat_reg = random_cat_reg.best_params_\n",
    "print(\"RandomizedSearch лучшие параметры (CatBoostRegressor):\", best_params_random_cat_reg)"
   ]
  },
  {
   "cell_type": "code",
   "execution_count": null,
   "id": "18f51caa-d17c-4a19-b67e-6f0cf0f3461e",
   "metadata": {},
   "outputs": [],
   "source": [
    "def objective_cat_reg(trial):\n",
    "    model = CatBoostRegressor(\n",
    "        iterations=trial.suggest_int(\"iterations\", 100, 300),\n",
    "        learning_rate=trial.suggest_float(\"learning_rate\", 0.01, 0.1),\n",
    "        depth=trial.suggest_int(\"depth\", 3, 10),\n",
    "        l2_leaf_reg=trial.suggest_int(\"l2_leaf_reg\", 1, 10),\n",
    "        verbose=0,\n",
    "        random_state=42\n",
    "    )\n",
    "    score = cross_val_score(model, X_small_cat_reg, y_small_cat_reg, cv=3, scoring=\"neg_mean_squared_error\").mean()\n",
    "    return score\n",
    "\n",
    "study_cat_reg = optuna.create_study(direction=\"maximize\")\n",
    "study_cat_reg.optimize(objective_cat_reg, n_trials=30)\n",
    "best_params_optuna_cat_reg = study_cat_reg.best_params\n",
    "print(\"Optuna лучшие параметры (CatBoostRegressor):\", best_params_optuna_cat_reg)"
   ]
  },
  {
   "cell_type": "code",
   "execution_count": null,
   "id": "ea043fc4-4770-4820-88f9-8ad9ff0f64ee",
   "metadata": {},
   "outputs": [],
   "source": [
    "final_cat_grid_reg = CatBoostRegressor(**best_params_grid_cat_reg, verbose=0, random_state=42)\n",
    "final_cat_grid_reg.fit(X_train_reg, y_train_reg)\n",
    "\n",
    "final_cat_random_reg = CatBoostRegressor(**best_params_random_cat_reg, verbose=0, random_state=42)\n",
    "final_cat_random_reg.fit(X_train_reg, y_train_reg)\n",
    "\n",
    "final_cat_optuna_reg = CatBoostRegressor(**best_params_optuna_cat_reg, verbose=0, random_state=42)\n",
    "final_cat_optuna_reg.fit(X_train_reg, y_train_reg)\n"
   ]
  },
  {
   "cell_type": "code",
   "execution_count": null,
   "id": "2cf7b0a1-0047-46d8-b80b-9c28be8b8be5",
   "metadata": {},
   "outputs": [],
   "source": [
    "y_pred_grid_cat_reg = final_cat_grid_reg.predict(X_test_reg)\n",
    "y_pred_random_cat_reg = final_cat_random_reg.predict(X_test_reg)\n",
    "y_pred_optuna_cat_reg = final_cat_optuna_reg.predict(X_test_reg)\n",
    "\n",
    "metrics_cat_reg = pd.DataFrame({\n",
    "    \"Метрика\": [\"MSE\", \"MAE\", \"R2\", \"MAPE\"],\n",
    "    \"GridSearch\": [\n",
    "        mean_squared_error(y_test_reg, y_pred_grid_cat_reg),\n",
    "        mean_absolute_error(y_test_reg, y_pred_grid_cat_reg),\n",
    "        r2_score(y_test_reg, y_pred_grid_cat_reg),\n",
    "        mean_absolute_percentage_error(y_test_reg, y_pred_grid_cat_reg)\n",
    "    ],\n",
    "    \"RandomSearch\": [\n",
    "        mean_squared_error(y_test_reg, y_pred_random_cat_reg),\n",
    "        mean_absolute_error(y_test_reg, y_pred_random_cat_reg),\n",
    "        r2_score(y_test_reg, y_pred_random_cat_reg),\n",
    "        mean_absolute_percentage_error(y_test_reg, y_pred_random_cat_reg)\n",
    "    ],\n",
    "    \"Optuna\": [\n",
    "        mean_squared_error(y_test_reg, y_pred_optuna_cat_reg),\n",
    "        mean_absolute_error(y_test_reg, y_pred_optuna_cat_reg),\n",
    "        r2_score(y_test_reg, y_pred_optuna_cat_reg),\n",
    "        mean_absolute_percentage_error(y_test_reg, y_pred_optuna_cat_reg)\n",
    "    ]\n",
    "})\n",
    "\n",
    "# Отключаем экспоненциальное отображение чисел:\n",
    "pd.options.display.float_format = '{:,.4f}'.format\n",
    "\n",
    "print(\"\\nСравнение моделей CatBoostRegressor:\")\n",
    "print(metrics_cat_reg)"
   ]
  },
  {
   "cell_type": "code",
   "execution_count": null,
   "id": "34937bca-beef-43d4-b7a0-5cc3a2c02b82",
   "metadata": {},
   "outputs": [],
   "source": [
    "metrics_cat_regf = pd.DataFrame({\n",
    "    \"Метрика\": [\"MSE\", \"MAE\", \"R2\", \"MAPE\"],\n",
    "    \"GridSearch\": [\n",
    "        mean_squared_error(y_test_reg, y_pred_grid_cat_reg),\n",
    "        mean_absolute_error(y_test_reg, y_pred_grid_cat_reg),\n",
    "        r2_score(y_test_reg, y_pred_grid_cat_reg),\n",
    "        mean_absolute_percentage_error(y_test_reg, y_pred_grid_cat_reg)\n",
    "    ]\n",
    "})\n",
    "\n",
    "# Отключаем экспоненциальное отображение чисел:\n",
    "pd.options.display.float_format = '{:,.4f}'.format\n",
    "\n",
    "print(\"\\ Лучшая метрика для CatBoostRegressor:\")\n",
    "print(metrics_cat_regf)"
   ]
  },
  {
   "cell_type": "markdown",
   "id": "a74d03f5-7919-409e-849e-2605e67f3ee1",
   "metadata": {},
   "source": [
    "## Градиентный бустинг над деревьями решений: XGBoost"
   ]
  },
  {
   "cell_type": "markdown",
   "id": "ab963eff-7e14-47a1-86bf-6bcb0869f408",
   "metadata": {},
   "source": [
    "Решите задачу регрессии и классификации на ваших данных с использованием библиотек градиентного бустинга над деревьями решений: \n",
    "- XGBoost "
   ]
  },
  {
   "cell_type": "markdown",
   "id": "7efb9be7-7cff-494b-8248-8317870f36e8",
   "metadata": {},
   "source": [
    "### XGBoost. Классификация"
   ]
  },
  {
   "cell_type": "code",
   "execution_count": null,
   "id": "fd57500c-3a65-4e38-ac40-16f1a6b17310",
   "metadata": {},
   "outputs": [],
   "source": [
    "X_small_xgb_clf, _, y_small_xgb_clf, _ = train_test_split(X_train_clf, y_train_clf, train_size=0.01, random_state=42, stratify=y_train_clf)"
   ]
  },
  {
   "cell_type": "code",
   "execution_count": null,
   "id": "e9ed2cf6-dbc8-4b46-8f4b-a843a5d07a39",
   "metadata": {},
   "outputs": [],
   "source": [
    "param_grid_xgb_clf = {\n",
    "    'n_estimators': [50, 100],\n",
    "    'max_depth': [3, 5, 7],\n",
    "    'learning_rate': [0.01, 0.1],\n",
    "    'subsample': [0.7, 1.0],\n",
    "    'colsample_bytree': [0.7, 1.0]\n",
    "}\n",
    "\n",
    "grid_xgb_clf = GridSearchCV(XGBClassifier(use_label_encoder=False, eval_metric='logloss', random_state=42),\n",
    "                            param_grid=param_grid_xgb_clf,\n",
    "                            cv=3,\n",
    "                            scoring='f1',\n",
    "                            n_jobs=-1)\n",
    "grid_xgb_clf.fit(X_small_xgb_clf, y_small_xgb_clf)\n",
    "best_params_grid_xgb_clf = grid_xgb_clf.best_params_"
   ]
  },
  {
   "cell_type": "code",
   "execution_count": null,
   "id": "53f5ba0c-d8d8-4e69-adb1-e833cc1f3023",
   "metadata": {},
   "outputs": [],
   "source": [
    "param_dist_xgb_clf = {\n",
    "    'n_estimators': randint(50, 150),\n",
    "    'max_depth': randint(3, 10),\n",
    "    'learning_rate': uniform(0.01, 0.3),\n",
    "    'subsample': uniform(0.7, 0.3),\n",
    "    'colsample_bytree': uniform(0.7, 0.3)\n",
    "}\n",
    "\n",
    "random_xgb_clf = RandomizedSearchCV(XGBClassifier(use_label_encoder=False, eval_metric='logloss', random_state=42),\n",
    "                                    param_distributions=param_dist_xgb_clf,\n",
    "                                    n_iter=30,\n",
    "                                    cv=3,\n",
    "                                    scoring='f1',\n",
    "                                    random_state=42,\n",
    "                                    n_jobs=-1)\n",
    "random_xgb_clf.fit(X_small_xgb_clf, y_small_xgb_clf)\n",
    "best_params_random_xgb_clf = random_xgb_clf.best_params_"
   ]
  },
  {
   "cell_type": "code",
   "execution_count": null,
   "id": "c4f9cf46-6434-4045-be52-aa292edfece9",
   "metadata": {},
   "outputs": [],
   "source": [
    "def objective_xgb_clf(trial):\n",
    "    clf = XGBClassifier(\n",
    "        n_estimators=trial.suggest_int('n_estimators', 50, 150),\n",
    "        max_depth=trial.suggest_int('max_depth', 3, 10),\n",
    "        learning_rate=trial.suggest_float('learning_rate', 0.01, 0.3),\n",
    "        subsample=trial.suggest_float('subsample', 0.7, 1.0),\n",
    "        colsample_bytree=trial.suggest_float('colsample_bytree', 0.7, 1.0),\n",
    "        use_label_encoder=False,\n",
    "        eval_metric='logloss',\n",
    "        random_state=42\n",
    "    )\n",
    "    return cross_val_score(clf, X_small_xgb_clf, y_small_xgb_clf, cv=3, scoring='f1').mean()\n",
    "\n",
    "study_xgb_clf = optuna.create_study(direction='maximize')\n",
    "study_xgb_clf.optimize(objective_xgb_clf, n_trials=30)\n",
    "best_params_optuna_xgb_clf = study_xgb_clf.best_params"
   ]
  },
  {
   "cell_type": "code",
   "execution_count": null,
   "id": "1797744e-accd-478b-8fe2-e908ab9712db",
   "metadata": {},
   "outputs": [],
   "source": [
    "final_xgb_clf_grid = XGBClassifier(**best_params_grid_xgb_clf, use_label_encoder=False, eval_metric='logloss', random_state=42)\n",
    "final_xgb_clf_random = XGBClassifier(**best_params_random_xgb_clf, use_label_encoder=False, eval_metric='logloss', random_state=42)\n",
    "final_xgb_clf_optuna = XGBClassifier(**best_params_optuna_xgb_clf, use_label_encoder=False, eval_metric='logloss', random_state=42)\n",
    "\n",
    "final_xgb_clf_grid.fit(X_train_clf, y_train_clf)\n",
    "final_xgb_clf_random.fit(X_train_clf, y_train_clf)\n",
    "final_xgb_clf_optuna.fit(X_train_clf, y_train_clf)"
   ]
  },
  {
   "cell_type": "code",
   "execution_count": null,
   "id": "2a054515-7a85-439c-82a4-f97dc548cd7e",
   "metadata": {},
   "outputs": [],
   "source": [
    "y_pred_grid = final_xgb_clf_grid.predict(X_test_clf)\n",
    "y_pred_random = final_xgb_clf_random.predict(X_test_clf)\n",
    "y_pred_optuna = final_xgb_clf_optuna.predict(X_test_clf)\n",
    "\n",
    "comparison_xgb_clf = pd.DataFrame({\n",
    "    \"Метрика\": [\"Accuracy\", \"Precision\", \"Recall\", \"F1\"],\n",
    "    \"GridSearch\": [\n",
    "        accuracy_score(y_test_clf, y_pred_grid),\n",
    "        precision_score(y_test_clf, y_pred_grid),\n",
    "        recall_score(y_test_clf, y_pred_grid),\n",
    "        f1_score(y_test_clf, y_pred_grid)\n",
    "    ],\n",
    "    \"RandomSearch\": [\n",
    "        accuracy_score(y_test_clf, y_pred_random),\n",
    "        precision_score(y_test_clf, y_pred_random),\n",
    "        recall_score(y_test_clf, y_pred_random),\n",
    "        f1_score(y_test_clf, y_pred_random)\n",
    "    ],\n",
    "    \"Optuna\": [\n",
    "        accuracy_score(y_test_clf, y_pred_optuna),\n",
    "        precision_score(y_test_clf, y_pred_optuna),\n",
    "        recall_score(y_test_clf, y_pred_optuna),\n",
    "        f1_score(y_test_clf, y_pred_optuna)\n",
    "    ]\n",
    "})\n",
    "\n",
    "print(\"\\nСравнение XGBoost Classifier:\")\n",
    "print(comparison_xgb_clf)"
   ]
  },
  {
   "cell_type": "code",
   "execution_count": null,
   "id": "500ada7e-7545-4a06-901f-b907f16cd4b6",
   "metadata": {},
   "outputs": [],
   "source": [
    "comparison_xgb_clff = pd.DataFrame({\n",
    "    \"RandomSearch\": [\n",
    "        accuracy_score(y_test_clf, y_pred_random),\n",
    "        precision_score(y_test_clf, y_pred_random),\n",
    "        recall_score(y_test_clf, y_pred_random),\n",
    "        f1_score(y_test_clf, y_pred_random)\n",
    "    ]\n",
    "})\n",
    "\n",
    "print(\"\\nЛучшая метрика для XGBoost Classifier:\")\n",
    "print(comparison_xgb_clff)"
   ]
  },
  {
   "cell_type": "markdown",
   "id": "3101de31-c3ad-40ee-99f6-535166793556",
   "metadata": {},
   "source": [
    "### XGBoost. Регрессия"
   ]
  },
  {
   "cell_type": "code",
   "execution_count": null,
   "id": "9de5b394-aace-4c92-aa5e-fac9d17377b5",
   "metadata": {},
   "outputs": [],
   "source": [
    "X_small_xgb_reg, _, y_small_xgb_reg, _ = train_test_split(X_train_reg, y_train_reg,\n",
    "                                                          train_size=0.01,\n",
    "                                                          random_state=42)"
   ]
  },
  {
   "cell_type": "code",
   "execution_count": null,
   "id": "548fbada-7059-4da9-86a8-627878b39398",
   "metadata": {},
   "outputs": [],
   "source": [
    "from xgboost import XGBRegressor\n",
    "param_grid_xgb_reg = {\n",
    "    'n_estimators': [50, 100],\n",
    "    'max_depth': [3, 5, 7],\n",
    "    'learning_rate': [0.01, 0.1],\n",
    "    'subsample': [0.7, 1.0],\n",
    "    'colsample_bytree': [0.7, 1.0]\n",
    "}\n",
    "\n",
    "grid_xgb_reg = GridSearchCV(XGBRegressor(random_state=42),\n",
    "                            param_grid=param_grid_xgb_reg,\n",
    "                            cv=3,\n",
    "                            scoring='r2',\n",
    "                            n_jobs=-1)\n",
    "grid_xgb_reg.fit(X_small_xgb_reg, y_small_xgb_reg)\n",
    "best_params_grid_xgb_reg = grid_xgb_reg.best_params_"
   ]
  },
  {
   "cell_type": "code",
   "execution_count": null,
   "id": "5a3bfb2f-83aa-4687-9b05-36bd0538a316",
   "metadata": {},
   "outputs": [],
   "source": [
    "param_dist_xgb_reg = {\n",
    "    'n_estimators': randint(50, 150),\n",
    "    'max_depth': randint(3, 10),\n",
    "    'learning_rate': uniform(0.01, 0.3),\n",
    "    'subsample': uniform(0.7, 0.3),\n",
    "    'colsample_bytree': uniform(0.7, 0.3)\n",
    "}\n",
    "\n",
    "random_xgb_reg = RandomizedSearchCV(XGBRegressor(random_state=42),\n",
    "                                    param_distributions=param_dist_xgb_reg,\n",
    "                                    n_iter=30,\n",
    "                                    cv=3,\n",
    "                                    scoring='r2',\n",
    "                                    random_state=42,\n",
    "                                    n_jobs=-1)\n",
    "random_xgb_reg.fit(X_small_xgb_reg, y_small_xgb_reg)\n",
    "best_params_random_xgb_reg = random_xgb_reg.best_params_"
   ]
  },
  {
   "cell_type": "code",
   "execution_count": null,
   "id": "1a6e634a-9b1a-4aa6-a1a3-5fb3eaff4875",
   "metadata": {},
   "outputs": [],
   "source": [
    "def objective_xgb_reg(trial):\n",
    "    model = XGBRegressor(\n",
    "        n_estimators=trial.suggest_int('n_estimators', 50, 150),\n",
    "        max_depth=trial.suggest_int('max_depth', 3, 10),\n",
    "        learning_rate=trial.suggest_float('learning_rate', 0.01, 0.3),\n",
    "        subsample=trial.suggest_float('subsample', 0.7, 1.0),\n",
    "        colsample_bytree=trial.suggest_float('colsample_bytree', 0.7, 1.0),\n",
    "        random_state=42\n",
    "    )\n",
    "    return cross_val_score(model, X_small_xgb_reg, y_small_xgb_reg, cv=3, scoring='r2').mean()\n",
    "\n",
    "study_xgb_reg = optuna.create_study(direction='maximize')\n",
    "study_xgb_reg.optimize(objective_xgb_reg, n_trials=30)\n",
    "best_params_optuna_xgb_reg = study_xgb_reg.best_params"
   ]
  },
  {
   "cell_type": "code",
   "execution_count": null,
   "id": "86aa6a23-717b-4a4b-a9f6-9397be23c7d6",
   "metadata": {},
   "outputs": [],
   "source": [
    "final_xgb_reg_grid = XGBRegressor(**best_params_grid_xgb_reg, random_state=42)\n",
    "final_xgb_reg_random = XGBRegressor(**best_params_random_xgb_reg, random_state=42)\n",
    "final_xgb_reg_optuna = XGBRegressor(**best_params_optuna_xgb_reg, random_state=42)\n",
    "\n",
    "final_xgb_reg_grid.fit(X_train_reg, y_train_reg)\n",
    "final_xgb_reg_random.fit(X_train_reg, y_train_reg)\n",
    "final_xgb_reg_optuna.fit(X_train_reg, y_train_reg)"
   ]
  },
  {
   "cell_type": "code",
   "execution_count": null,
   "id": "77e4aec6-3f3c-45c6-842b-9114612f7faf",
   "metadata": {},
   "outputs": [],
   "source": [
    "y_pred_grid_xgb = final_xgb_reg_grid.predict(X_test_reg)\n",
    "y_pred_rand_xgb = final_xgb_reg_random.predict(X_test_reg)\n",
    "y_pred_optuna_xgb = final_xgb_reg_optuna.predict(X_test_reg)\n",
    "\n",
    "comparison_xgb_reg = pd.DataFrame({\n",
    "    \"Метрика\": [\"MSE\", \"MAE\", \"R2\", \"MAPE\"],\n",
    "    \"GridSearch\": [\n",
    "        mean_squared_error(y_test_reg, y_pred_grid_xgb),\n",
    "        mean_absolute_error(y_test_reg, y_pred_grid_xgb),\n",
    "        r2_score(y_test_reg, y_pred_grid_xgb),\n",
    "        mean_absolute_percentage_error(y_test_reg, y_pred_grid_xgb)\n",
    "    ],\n",
    "    \"RandomSearch\": [\n",
    "        mean_squared_error(y_test_reg, y_pred_rand_xgb),\n",
    "        mean_absolute_error(y_test_reg, y_pred_rand_xgb),\n",
    "        r2_score(y_test_reg, y_pred_rand_xgb),\n",
    "        mean_absolute_percentage_error(y_test_reg, y_pred_rand_xgb)\n",
    "    ],\n",
    "    \"Optuna\": [\n",
    "        mean_squared_error(y_test_reg, y_pred_optuna_xgb),\n",
    "        mean_absolute_error(y_test_reg, y_pred_optuna_xgb),\n",
    "        r2_score(y_test_reg, y_pred_optuna_xgb),\n",
    "        mean_absolute_percentage_error(y_test_reg, y_pred_optuna_xgb)\n",
    "    ]\n",
    "})\n",
    "\n",
    "# Отключим экспоненциальный формат\n",
    "pd.set_option('display.float_format', '{:.4f}'.format)\n",
    "\n",
    "print(\"\\nСравнение XGBoost Regressor:\")\n",
    "print(comparison_xgb_reg)"
   ]
  },
  {
   "cell_type": "code",
   "execution_count": null,
   "id": "45365220-e38d-4046-90f4-a89100486a59",
   "metadata": {},
   "outputs": [],
   "source": [
    "comparison_xgb_regf = pd.DataFrame({\n",
    "    \"Метрика\": [\"MSE\", \"MAE\", \"R2\", \"MAPE\"],\n",
    "    \"Optuna\": [\n",
    "        mean_squared_error(y_test_reg, y_pred_optuna_xgb),\n",
    "        mean_absolute_error(y_test_reg, y_pred_optuna_xgb),\n",
    "        r2_score(y_test_reg, y_pred_optuna_xgb),\n",
    "        mean_absolute_percentage_error(y_test_reg, y_pred_optuna_xgb)\n",
    "    ]\n",
    "})\n",
    "\n",
    "# Отключим экспоненциальный формат\n",
    "pd.set_option('display.float_format', '{:.4f}'.format)\n",
    "\n",
    "print(\"\\nЛучшие метрики для XGBoost Regressor:\")\n",
    "print(comparison_xgb_regf)"
   ]
  },
  {
   "cell_type": "markdown",
   "id": "fc7b935e-fef2-4e28-b5fd-fa7bfd7361c3",
   "metadata": {},
   "source": [
    "## Градиентный бустинг над деревьями решений: LightGBM"
   ]
  },
  {
   "cell_type": "markdown",
   "id": "1dabf4dc-8482-48fb-aa74-5efb8597dc4e",
   "metadata": {},
   "source": [
    "Решите задачу регрессии и классификации на ваших данных с использованием библиотек градиентного бустинга над деревьями решений: \n",
    "- LightGBM"
   ]
  },
  {
   "cell_type": "markdown",
   "id": "ea950fb8-76f2-44e9-b6a6-e6a73b3188d3",
   "metadata": {},
   "source": [
    "### LightGBM. Классификация"
   ]
  },
  {
   "cell_type": "code",
   "execution_count": null,
   "id": "debd0422-471b-4cae-8a20-822878c2d56a",
   "metadata": {},
   "outputs": [],
   "source": [
    "X_small_lgb_clf, _, y_small_lgb_clf, _ = train_test_split(X_train_clf, y_train_clf, train_size=0.01, stratify=y_train_clf, random_state=42)"
   ]
  },
  {
   "cell_type": "code",
   "execution_count": null,
   "id": "81861313-32ab-475e-9eac-e8476e8ad6f5",
   "metadata": {},
   "outputs": [],
   "source": [
    "import lightgbm as lgb\n",
    "\n",
    "params = {\n",
    "    'objective': 'regression',\n",
    "    'metric': 'rmse',\n",
    "    'verbose': -1  # Убирает все предупреждения\n",
    "}"
   ]
  },
  {
   "cell_type": "code",
   "execution_count": null,
   "id": "f5a5f8f6-96c5-4d1b-b611-e09af31df7c6",
   "metadata": {},
   "outputs": [],
   "source": [
    "from lightgbm import LGBMClassifier\n",
    "param_grid_lgb_clf = {\n",
    "    'n_estimators': [50, 100],\n",
    "    'learning_rate': [0.01, 0.1],\n",
    "    'max_depth': [3, 5, 7],\n",
    "    'num_leaves': [15, 31, 63]\n",
    "}\n",
    "\n",
    "grid_lgb_clf = GridSearchCV(LGBMClassifier(random_state=42),\n",
    "                            param_grid=param_grid_lgb_clf,\n",
    "                            scoring='f1',\n",
    "                            cv=3,\n",
    "                            n_jobs=-1)\n",
    "grid_lgb_clf.fit(X_small_lgb_clf, y_small_lgb_clf)\n",
    "best_params_grid_lgb_clf = grid_lgb_clf.best_params_"
   ]
  },
  {
   "cell_type": "markdown",
   "id": "3ca19eef-3835-4906-be40-acb86f4c45e4",
   "metadata": {},
   "source": []
  },
  {
   "cell_type": "markdown",
   "id": "59328589-2bd6-41ba-8a3b-75297d9a4e6a",
   "metadata": {
    "jp-MarkdownHeadingCollapsed": true
   },
   "source": [
    "### Вычисление гиперпараметров, так как много ворнинг, прячу"
   ]
  },
  {
   "cell_type": "code",
   "execution_count": null,
   "id": "10b9c8aa-8618-48c4-8201-5c9d84953baf",
   "metadata": {},
   "outputs": [],
   "source": [
    "param_dist_lgb_clf = {\n",
    "    'n_estimators': randint(50, 200),\n",
    "    'learning_rate': uniform(0.01, 0.2),\n",
    "    'max_depth': randint(3, 10),\n",
    "    'num_leaves': randint(15, 64)\n",
    "}\n",
    "\n",
    "random_lgb_clf = RandomizedSearchCV(LGBMClassifier(random_state=42),\n",
    "                                    param_distributions=param_dist_lgb_clf,\n",
    "                                    n_iter=30,\n",
    "                                    scoring='f1',\n",
    "                                    cv=3,\n",
    "                                    random_state=42,\n",
    "                                    n_jobs=-1)\n",
    "random_lgb_clf.fit(X_small_lgb_clf, y_small_lgb_clf)\n",
    "best_params_random_lgb_clf = random_lgb_clf.best_params_"
   ]
  },
  {
   "cell_type": "code",
   "execution_count": null,
   "id": "ecc0a0ae-4c20-4356-9f16-c91dd9a2cc77",
   "metadata": {},
   "outputs": [],
   "source": [
    "def objective_lgb_clf(trial):\n",
    "    model = LGBMClassifier(\n",
    "        n_estimators=trial.suggest_int('n_estimators', 50, 200),\n",
    "        learning_rate=trial.suggest_float('learning_rate', 0.01, 0.2),\n",
    "        max_depth=trial.suggest_int('max_depth', 3, 10),\n",
    "        num_leaves=trial.suggest_int('num_leaves', 15, 64),\n",
    "        random_state=42\n",
    "    )\n",
    "    score = cross_val_score(model, X_small_lgb_clf, y_small_lgb_clf, scoring='f1', cv=3).mean()\n",
    "    return score\n",
    "\n",
    "study_lgb_clf = optuna.create_study(direction='maximize')\n",
    "study_lgb_clf.optimize(objective_lgb_clf, n_trials=30)\n",
    "best_params_optuna_lgb_clf = study_lgb_clf.best_params"
   ]
  },
  {
   "cell_type": "code",
   "execution_count": null,
   "id": "6e3554e2-8dda-45d5-98a2-c38bd1bbed70",
   "metadata": {},
   "outputs": [],
   "source": [
    "# Обучение по лучшим параметрам\n",
    "final_lgb_clf_grid = LGBMClassifier(**best_params_grid_lgb_clf, random_state=42).fit(X_train_clf, y_train_clf)\n",
    "final_lgb_clf_random = LGBMClassifier(**best_params_random_lgb_clf, random_state=42).fit(X_train_clf, y_train_clf)\n",
    "final_lgb_clf_optuna = LGBMClassifier(**best_params_optuna_lgb_clf, random_state=42).fit(X_train_clf, y_train_clf)"
   ]
  },
  {
   "cell_type": "markdown",
   "id": "7951eb27-412c-46e5-8b98-ad6331b090f9",
   "metadata": {},
   "source": [
    "### Продолжение"
   ]
  },
  {
   "cell_type": "code",
   "execution_count": null,
   "id": "9952ee25-1983-4796-b6e1-26c0ad39c447",
   "metadata": {},
   "outputs": [],
   "source": [
    "y_pred_grid = final_lgb_clf_grid.predict(X_test_clf)\n",
    "y_pred_random = final_lgb_clf_random.predict(X_test_clf)\n",
    "y_pred_optuna = final_lgb_clf_optuna.predict(X_test_clf)\n",
    "\n",
    "# Сравнение\n",
    "\n",
    "metrics_lgb_clf = pd.DataFrame({\n",
    "    \"Метрика\": [\"Accuracy\", \"F1\", \"Precision\", \"Recall\"],\n",
    "    \"GridSearch\": [\n",
    "        accuracy_score(y_test_clf, y_pred_grid),\n",
    "        f1_score(y_test_clf, y_pred_grid),\n",
    "        precision_score(y_test_clf, y_pred_grid, average='binary'),\n",
    "        recall_score(y_test_clf, y_pred_grid, average='binary')\n",
    "    ],\n",
    "    \"RandomSearch\": [\n",
    "        accuracy_score(y_test_clf, y_pred_random),\n",
    "        f1_score(y_test_clf, y_pred_random),\n",
    "        precision_score(y_test_clf, y_pred_random, average='binary'),\n",
    "        recall_score(y_test_clf, y_pred_random, average='binary')\n",
    "    ],\n",
    "    \"Optuna\": [\n",
    "        accuracy_score(y_test_clf, y_pred_optuna),\n",
    "        f1_score(y_test_clf, y_pred_optuna),\n",
    "        precision_score(y_test_clf, y_pred_optuna, average='binary'),\n",
    "        recall_score(y_test_clf, y_pred_optuna, average='binary')\n",
    "    ]\n",
    "})\n",
    "\n",
    "print(\"\\nСравнение моделей LightGBM-классификации:\")\n",
    "print(metrics_lgb_clf.round(4))"
   ]
  },
  {
   "cell_type": "code",
   "execution_count": null,
   "id": "de4f5ed9-bc32-4d51-a0b7-88830eb196b0",
   "metadata": {},
   "outputs": [],
   "source": [
    "metrics_lgb_clff = pd.DataFrame({\n",
    "    \"Метрика\": [\"Accuracy\", \"F1\", \"Precision\", \"Recall\"],\n",
    "    \"GridSearch\": [\n",
    "        accuracy_score(y_test_clf, y_pred_grid),\n",
    "        f1_score(y_test_clf, y_pred_grid),\n",
    "        precision_score(y_test_clf, y_pred_grid, average='binary'),\n",
    "        recall_score(y_test_clf, y_pred_grid, average='binary')\n",
    "    ]\n",
    "})\n",
    "\n",
    "print(\"\\nЛучшие метрики для LightGBM-классификации:\")\n",
    "print(metrics_lgb_clff.round(4))"
   ]
  },
  {
   "cell_type": "markdown",
   "id": "bf1af0d7-ed2f-47b1-9e29-fdbb5038d797",
   "metadata": {},
   "source": [
    "### LightGBM. Регрессия"
   ]
  },
  {
   "cell_type": "code",
   "execution_count": null,
   "id": "8c8f76ba-076d-43cc-8dfb-c36c4187599d",
   "metadata": {},
   "outputs": [],
   "source": [
    "X_small_lgb_reg, _, y_small_lgb_reg, _ = train_test_split(X_train_reg, y_train_reg, train_size=0.01, random_state=42)"
   ]
  },
  {
   "cell_type": "code",
   "execution_count": null,
   "id": "13b430d2-bda6-4278-8e89-2850d4fbf877",
   "metadata": {},
   "outputs": [],
   "source": [
    "from lightgbm import LGBMRegressor"
   ]
  },
  {
   "cell_type": "markdown",
   "id": "d3d3c031-8dd2-461c-8c94-2125ef65e9dd",
   "metadata": {
    "jp-MarkdownHeadingCollapsed": true
   },
   "source": [
    "#### Здесь очень длинные ворнинг. Но происходит подбор гиперпараметров для RandomizedSearchCV и GridSearchCV и Optuna. Обучение моделей"
   ]
  },
  {
   "cell_type": "code",
   "execution_count": null,
   "id": "80ed86bd-b480-48b7-8cb8-0d8437f27d42",
   "metadata": {},
   "outputs": [],
   "source": [
    "param_grid_lgb_reg = {\n",
    "    'n_estimators': [50, 100],\n",
    "    'learning_rate': [0.01, 0.1],\n",
    "    'max_depth': [3, 5, 7],\n",
    "    'num_leaves': [15, 31, 63]\n",
    "}\n",
    "\n",
    "grid_lgb_reg = GridSearchCV(LGBMRegressor(random_state=42),\n",
    "                            param_grid=param_grid_lgb_reg,\n",
    "                            scoring='neg_mean_squared_error',\n",
    "                            cv=3,\n",
    "                            n_jobs=-1)\n",
    "grid_lgb_reg.fit(X_small_lgb_reg, y_small_lgb_reg)\n",
    "best_params_grid_lgb_reg = grid_lgb_reg.best_params_"
   ]
  },
  {
   "cell_type": "code",
   "execution_count": null,
   "id": "2dc4219c-ce1f-4aa1-9a51-66e4373b4ffa",
   "metadata": {},
   "outputs": [],
   "source": [
    "param_dist_lgb_reg = {\n",
    "    'n_estimators': randint(50, 200),\n",
    "    'learning_rate': uniform(0.01, 0.2),\n",
    "    'max_depth': randint(3, 10),\n",
    "    'num_leaves': randint(15, 64)\n",
    "}\n",
    "\n",
    "random_lgb_reg = RandomizedSearchCV(LGBMRegressor(random_state=42),\n",
    "                                    param_distributions=param_dist_lgb_reg,\n",
    "                                    n_iter=30,\n",
    "                                    scoring='neg_mean_squared_error',\n",
    "                                    cv=3,\n",
    "                                    random_state=42,\n",
    "                                    n_jobs=-1)\n",
    "random_lgb_reg.fit(X_small_lgb_reg, y_small_lgb_reg)\n",
    "best_params_random_lgb_reg = random_lgb_reg.best_params_"
   ]
  },
  {
   "cell_type": "code",
   "execution_count": null,
   "id": "59ea172b-090d-405b-94ab-9faf234f2738",
   "metadata": {},
   "outputs": [],
   "source": [
    "def objective_lgb_reg(trial):\n",
    "    model = LGBMRegressor(\n",
    "        n_estimators=trial.suggest_int('n_estimators', 50, 200),\n",
    "        learning_rate=trial.suggest_float('learning_rate', 0.01, 0.2),\n",
    "        max_depth=trial.suggest_int('max_depth', 3, 10),\n",
    "        num_leaves=trial.suggest_int('num_leaves', 15, 64),\n",
    "        random_state=42\n",
    "    )\n",
    "    score = cross_val_score(model, X_small_lgb_reg, y_small_lgb_reg, scoring='neg_mean_squared_error', cv=3).mean()\n",
    "    return score\n",
    "\n",
    "study_lgb_reg = optuna.create_study(direction='maximize')\n",
    "study_lgb_reg.optimize(objective_lgb_reg, n_trials=30)\n",
    "best_params_optuna_lgb_reg = study_lgb_reg.best_params\n"
   ]
  },
  {
   "cell_type": "code",
   "execution_count": null,
   "id": "7178ee26-686f-48e5-b5c5-46bf6d42fe0f",
   "metadata": {},
   "outputs": [],
   "source": [
    "# Обучение по лучшим параметрам\n",
    "final_lgb_reg_grid = LGBMRegressor(**best_params_grid_lgb_reg, random_state=42).fit(X_train_reg, y_train_reg)\n",
    "final_lgb_reg_random = LGBMRegressor(**best_params_random_lgb_reg, random_state=42).fit(X_train_reg, y_train_reg)\n",
    "final_lgb_reg_optuna = LGBMRegressor(**best_params_optuna_lgb_reg, random_state=42).fit(X_train_reg, y_train_reg)"
   ]
  },
  {
   "cell_type": "markdown",
   "id": "3d95957f-2a29-49b9-879d-eb64a2cd2516",
   "metadata": {},
   "source": [
    "### Продолжение"
   ]
  },
  {
   "cell_type": "code",
   "execution_count": null,
   "id": "067cb39d-aa80-4587-a345-9104c81a6f3a",
   "metadata": {},
   "outputs": [],
   "source": [
    "# Предсказания\n",
    "y_pred_grid_reg = final_lgb_reg_grid.predict(X_test_reg)\n",
    "y_pred_random_reg = final_lgb_reg_random.predict(X_test_reg)\n",
    "y_pred_optuna_reg = final_lgb_reg_optuna.predict(X_test_reg)\n",
    "\n",
    "# Сравнение\n",
    "\n",
    "metrics_lgb_reg = pd.DataFrame({\n",
    "    \"Метрика\": [\"MSE\", \"MAE\", \"R2\", \"MAPE\"],\n",
    "    \"GridSearch\": [\n",
    "        mean_squared_error(y_test_reg, y_pred_grid_reg),\n",
    "        mean_absolute_error(y_test_reg, y_pred_grid_reg),\n",
    "        r2_score(y_test_reg, y_pred_grid_reg),\n",
    "        mean_absolute_percentage_error(y_test_reg, y_pred_grid_reg)\n",
    "    ],\n",
    "    \"RandomSearch\": [\n",
    "        mean_squared_error(y_test_reg, y_pred_random_reg),\n",
    "        mean_absolute_error(y_test_reg, y_pred_random_reg),\n",
    "        r2_score(y_test_reg, y_pred_random_reg),\n",
    "        mean_absolute_percentage_error(y_test_reg, y_pred_random_reg)\n",
    "    ],\n",
    "    \"Optuna\": [\n",
    "        mean_squared_error(y_test_reg, y_pred_optuna_reg),\n",
    "        mean_absolute_error(y_test_reg, y_pred_optuna_reg),\n",
    "        r2_score(y_test_reg, y_pred_optuna_reg),\n",
    "        mean_absolute_percentage_error(y_test_reg, y_pred_optuna_reg)\n",
    "    ]\n",
    "})\n",
    "\n",
    "print(\"\\nСравнение моделей LightGBM-регрессии:\")\n",
    "print(metrics_lgb_reg.round(4))"
   ]
  },
  {
   "cell_type": "code",
   "execution_count": null,
   "id": "93776750-08b6-4e95-a292-fbf2d1d41df7",
   "metadata": {},
   "outputs": [],
   "source": [
    "metrics_lgb_regf = pd.DataFrame({\n",
    "    \"Метрика\": [\"MSE\", \"MAE\", \"R2\", \"MAPE\"],\n",
    "    \"RandomSearch\": [\n",
    "        mean_squared_error(y_test_reg, y_pred_random_reg),\n",
    "        mean_absolute_error(y_test_reg, y_pred_random_reg),\n",
    "        r2_score(y_test_reg, y_pred_random_reg),\n",
    "        mean_absolute_percentage_error(y_test_reg, y_pred_random_reg)\n",
    "    ]\n",
    "})\n",
    "\n",
    "print(\"\\nЛучшие метрики для LightGBM-регрессии:\")\n",
    "print(metrics_lgb_regf.round(4))"
   ]
  },
  {
   "cell_type": "markdown",
   "id": "49633844-87d1-48b4-83cf-63d61474b6a1",
   "metadata": {},
   "source": [
    "# Оценка качества моделей"
   ]
  },
  {
   "cell_type": "markdown",
   "id": "c4226943-270f-4878-aa02-a7d9bfa1c6e6",
   "metadata": {},
   "source": [
    "Выполнить оценку качества моделей ML. Сравнить полученные результаты обучения ваших моделей ML с результатами, полученными с помощью PyCaret. Обратите внимание на сгенерированные таблицы (и их содержание) как результаты работы алгоритмов ML посредством PyCaret."
   ]
  },
  {
   "cell_type": "code",
   "execution_count": null,
   "id": "31af201a-4bab-46c5-844c-aaacbec838c5",
   "metadata": {},
   "outputs": [],
   "source": [
    "from pycaret.classification import *\n",
    "\n",
    "df_clf = X_train_clf.copy()\n",
    "df_clf['fraud'] = y_train_clf\n",
    "\n",
    "clf_setup = setup(data=df_clf, target='fraud', session_id=42, verbose=False)\n",
    "\n",
    "# Сравнение моделей\n",
    "clf_models = compare_models()\n",
    "clf_results = pull()\n",
    "print(clf_results)"
   ]
  },
  {
   "cell_type": "code",
   "execution_count": null,
   "id": "d0d75f35-e8b4-445b-8975-38513d39738f",
   "metadata": {},
   "outputs": [],
   "source": [
    "from pycaret.regression import *\n",
    "\n",
    "# Объединяем X и y в один DataFrame\n",
    "df_reg = X_train_reg.copy()\n",
    "df_reg['target'] = y_train_reg  # замените 'target' на имя вашей переменной\n",
    "\n",
    "# Настройка окружения\n",
    "reg_setup = setup(data=df_reg, target='target', session_id=42, verbose=False)\n",
    "\n",
    "# Сравнение моделей\n",
    "reg_models = compare_models()\n",
    "reg_results = pull()\n",
    "print(reg_results)"
   ]
  },
  {
   "cell_type": "markdown",
   "id": "1bfa4bff-92ca-48bc-829a-3ee1d2fa6616",
   "metadata": {},
   "source": [
    "# Вывод таблиц"
   ]
  },
  {
   "cell_type": "code",
   "execution_count": null,
   "id": "5cff1cb8-437a-473d-acaa-8bc25493a441",
   "metadata": {},
   "outputs": [],
   "source": [
    "# === КЛАССИФИКАТОРЫ ===\n",
    "classification_models = {\n",
    "    \"DecisionTree\": optuna_clf,\n",
    "    \"Bagging\": final_bag_clf,\n",
    "    \"GradientBoosting\": rand_gb_clf_final,\n",
    "    \"Stacking\": final_stack_random_clf,\n",
    "    \"CatBoost\": final_cat_random_clf,\n",
    "    \"XGBoost\": final_xgb_clf_random,\n",
    "    \"LightGBM\": final_lgb_clf_grid,\n",
    "}\n",
    "\n",
    "clf_rows = []\n",
    "for name, model in classification_models.items():\n",
    "    y_train_pred = model.predict(X_train_clf)\n",
    "    y_test_pred = model.predict(X_test_clf)\n",
    "\n",
    "    clf_rows.append([\n",
    "        name,\n",
    "        accuracy_score(y_train_clf, y_train_pred),\n",
    "        f1_score(y_train_clf, y_train_pred),\n",
    "        precision_score(y_train_clf, y_train_pred),\n",
    "        recall_score(y_train_clf, y_train_pred),\n",
    "        accuracy_score(y_test_clf, y_test_pred),\n",
    "        f1_score(y_test_clf, y_test_pred),\n",
    "        precision_score(y_test_clf, y_test_pred),\n",
    "        recall_score(y_test_clf, y_test_pred),\n",
    "    ])\n",
    "\n",
    "clf_df = pd.DataFrame(clf_rows, columns=[\n",
    "    \"Классификатор\",\n",
    "    \"Train Accuracy\", \"Train F1\", \"Train Precision\", \"Train Recall\",\n",
    "    \"Test Accuracy\", \"Test F1\", \"Test Precision\", \"Test Recall\"\n",
    "])\n",
    "\n",
    "# === РЕГРЕССОРЫ ===\n",
    "regression_models = {\n",
    "    \"DecisionTree\": grid_reg,\n",
    "    \"Bagging\": final_bag_reg_random,\n",
    "    \"GradientBoosting\": optuna_gb_reg_final,\n",
    "    \"Stacking\": final_stack_grid_reg,\n",
    "    \"CatBoost\": final_cat_grid_reg,\n",
    "    \"XGBoost\": final_xgb_reg_optuna,\n",
    "    \"LightGBM\": final_lgb_reg_random,\n",
    "}\n",
    "\n",
    "reg_rows = []\n",
    "for name, model in regression_models.items():\n",
    "    y_train_pred = model.predict(X_train_reg)\n",
    "    y_test_pred = model.predict(X_test_reg)\n",
    "\n",
    "    reg_rows.append([\n",
    "        name,\n",
    "        r2_score(y_train_reg, y_train_pred),\n",
    "        mean_absolute_error(y_train_reg, y_train_pred),\n",
    "        mean_absolute_percentage_error(y_train_reg, y_train_pred),\n",
    "        mean_squared_error(y_train_reg, y_train_pred),\n",
    "        r2_score(y_test_reg, y_test_pred),\n",
    "        mean_absolute_error(y_test_reg, y_test_pred),\n",
    "        mean_absolute_percentage_error(y_test_reg, y_test_pred),\n",
    "        mean_squared_error(y_test_reg, y_test_pred),\n",
    "    ])\n",
    "\n",
    "reg_df = pd.DataFrame(reg_rows, columns=[\n",
    "    \"Регрессор\",\n",
    "    \"Train R2\", \"Train MAE\", \"Train MAPE\", \"Train MSE\",\n",
    "    \"Test R2\", \"Test MAE\", \"Test MAPE\", \"Test MSE\"\n",
    "])\n",
    "\n",
    "# === ВЫВОД ===\n",
    "print(\"\\n=== Таблица классификаторов ===\")\n",
    "print(clf_df.round(4))\n",
    "\n",
    "print(\"\\n=== Таблица регрессоров ===\")\n",
    "print(reg_df.round(4))"
   ]
  },
  {
   "cell_type": "markdown",
   "id": "73124a7d-5716-43dd-b057-67a784f55b19",
   "metadata": {},
   "source": [
    "# Pycaret. Классификация\n",
    "\n",
    "                                    Model  Accuracy    AUC  Recall  Prec.  \\\n",
    "dt               Decision Tree Classifier    1.0000 0.9999  0.9998 1.0000      \n",
    "gbc          Gradient Boosting Classifier    0.9997 1.0000  0.9966 0.9996   \n",
    "catboost              CatBoost Classifier    0.9987 1.0000  0.9935 0.9918   \n",
    "xgboost         Extreme Gradient Boosting    0.9984 1.0000  0.9912 0.9903   \n",
    "lightgbm  Light Gradient Boosting Machine    0.9984 1.0000  0.9906 0.9908   \n",
    "\n",
    "# Мои вычисленные модели\n",
    "                   Test Accuracy  Test F1  Test Precision  Test Recall  \n",
    "Decision Tree Classifier  1.0000   0.9999          0.9999       0.9998  \n",
    "GradientBoosting          1.0000   0.9999          0.9999       0.9998  \n",
    "CatBoost                  0.9981   0.9890          0.9809       0.9972  \n",
    "XGBoost                   0.9984   0.9911          0.9918       0.9904  \n",
    "LightGBM                  0.9987   0.9923          0.9915       0.9932\n",
    "\n",
    "\n",
    "Decision Tree показал одинаково идеальные результаты — Accuracy = 1.0000, F1 = 0.9999, Recall = 0.9998.\n",
    "\n",
    "Gradient Boosting в моих расчётах дал лучшие метрики, чем в PyCaret: Accuracy = 1.0000 (vs. 0.9997), F1 = 0.9999, Recall = 0.9998 (vs. 0.9966).\n",
    "\n",
    "CatBoost и XGBoost показали сопоставимые метрики, но у меня значения немного ниже (Accuracy у CatBoost 0.9981 против 0.9987, Recall у xgboost 0.9904 против 0.9912).\n",
    "\n",
    "LightGBM у меня немного лучше по Accuracy (0.9987 vs. 0.9984), но разница минимальна.\n",
    "\n",
    "3/4 метрик в моей реализации выше, чем у pycaret"
   ]
  },
  {
   "cell_type": "markdown",
   "id": "583fa07c-2398-443b-a809-3b7dbf32d253",
   "metadata": {},
   "source": [
    "# Pycaret. Регрессия\n",
    "                                     RMSE       R2  RMSLE   MAPE  TT (Sec)  \n",
    "CatBoost Classifier           114114.0777   0.9039 0.1594 0.1184    3.0650  \n",
    "Light Gradient Boosting       125621.9194   0.8832 0.1690 0.1269    0.2040  \n",
    "Extreme Gradient Boosting     127636.8909   0.8788 0.1716 0.1288    0.1930  \n",
    "Gradient Boosting Classifier  137144.7756   0.8601 0.1878 0.1452    0.9200  \n",
    "Decision Tree Classifier      197620.2824   0.7062 0.2529 0.1874    0.0800   \n",
    "\n",
    "# Мои вычисленные модели\n",
    "                          Test R2  Test MAE  Test MAPE         Test MSE  \n",
    "Decision Tree Classifier  0.8249 85941.1076     0.1576 24256057467.3921  \n",
    "GradientBoosting          0.8972 69303.3339     0.1324 14232421400.7882  \n",
    "CatBoost Regressor        0.8898 70191.6245     0.1346 15266679657.9134  \n",
    "XGBoost                   0.8759 73884.6695     0.1419 17194939176.5526  \n",
    "Light Gradient Boosting   0.8935 66690.3424     0.1263 14752423427.8767  \n",
    "\n",
    "Gradient Boosting показал лучшую обобщённую точность в моей реализации (R2 = 0.8972), а также одну из самых низких ошибок MAE и MAPE.\n",
    "\n",
    "CatBoost имеет высшее R2 = 0.9039 в PyCaret.\n",
    "\n",
    "LightGBM в моей реализации близок к CatBoost по R2 (0.8935), но имеет наименьший MAE = 66690.34 и самый низкий MAPE = 0.1263.\n",
    "\n",
    "Decision Tree у меня лучше в сравнении с PyCaret (с 0.7062 против 0.8249). Достаточно большое различие\n",
    "\n",
    "XGBoost метрики, полученные с помощью PyCaret, немного выше вычисленной вручную реализации (0.8788 против 0.8759)"
   ]
  },
  {
   "cell_type": "code",
   "execution_count": null,
   "id": "dbc47ca7-8316-49f6-84cf-4d7d97466788",
   "metadata": {},
   "outputs": [],
   "source": [
    "# Уменьшаем train для классификации до 0.5%\n",
    "X_train_clf_small, _, y_train_clf_small, _ = train_test_split(\n",
    "    X_train_clf, y_train_clf, train_size=0.005, stratify=y_train_clf, random_state=42\n",
    ")\n",
    "\n",
    "# KFold\n",
    "kfold = KFold(n_splits=5, shuffle=True, random_state=42)\n",
    "\n",
    "# ==== Классификаторы ====\n",
    "clf_rows = []\n",
    "for name, model in classification_models.items():\n",
    "    # Hold-out\n",
    "    y_pred = model.predict(X_test_clf)\n",
    "    acc = accuracy_score(y_test_clf, y_pred)\n",
    "    f1 = f1_score(y_test_clf, y_pred)\n",
    "    prec = precision_score(y_test_clf, y_pred)\n",
    "    rec = recall_score(y_test_clf, y_pred)\n",
    "\n",
    "    # KFold на уменьшенной выборке\n",
    "    acc_kf = cross_val_score(model, X_train_clf_small, y_train_clf_small, cv=kfold, scoring='accuracy', n_jobs=-1).mean()\n",
    "    f1_kf = cross_val_score(model, X_train_clf_small, y_train_clf_small, cv=kfold, scoring='f1', n_jobs=-1).mean()\n",
    "    prec_kf = cross_val_score(model, X_train_clf_small, y_train_clf_small, cv=kfold, scoring='precision', n_jobs=-1).mean()\n",
    "    rec_kf = cross_val_score(model, X_train_clf_small, y_train_clf_small, cv=kfold, scoring='recall', n_jobs=-1).mean()\n",
    "\n",
    "    clf_rows.append([\n",
    "        name, acc, f1, prec, rec, acc_kf, f1_kf, prec_kf, rec_kf\n",
    "    ])\n",
    "\n",
    "clf_df = pd.DataFrame(clf_rows, columns=[\n",
    "    \"Классификатор\",\n",
    "    \"Holdout_Accuracy\", \"Holdout_F1\", \"Holdout_Precision\", \"Holdout_Recall\",\n",
    "    \"KFold_Accuracy\", \"KFold_F1\", \"KFold_Precision\", \"KFold_Recall\"\n",
    "])\n",
    "\n",
    "# ==== Регрессоры ====\n",
    "reg_rows = []\n",
    "for name, model in regression_models.items():\n",
    "    # Hold-out\n",
    "    y_pred = model.predict(X_test_reg)\n",
    "    mae = mean_absolute_error(y_test_reg, y_pred)\n",
    "    mse = mean_squared_error(y_test_reg, y_pred)\n",
    "    rmse = np.sqrt(mse)\n",
    "    r2 = r2_score(y_test_reg, y_pred)\n",
    "    mape = mean_absolute_percentage_error(y_test_reg, y_pred)\n",
    "\n",
    "    # KFold на полной выборке (с .iloc для поддержки DataFrame)\n",
    "    mae_kf = -cross_val_score(model, X_train_reg, y_train_reg, cv=kfold, scoring='neg_mean_absolute_error', n_jobs=-1).mean()\n",
    "    mse_kf = -cross_val_score(model, X_train_reg, y_train_reg, cv=kfold, scoring='neg_mean_squared_error', n_jobs=-1).mean()\n",
    "    rmse_kf = np.sqrt(mse_kf)\n",
    "    r2_kf = cross_val_score(model, X_train_reg, y_train_reg, cv=kfold, scoring='r2', n_jobs=-1).mean()\n",
    "\n",
    "    mape_kf = np.mean([\n",
    "        mean_absolute_percentage_error(\n",
    "            y_train_reg.iloc[valid_idx],\n",
    "            model.fit(X_train_reg.iloc[train_idx], y_train_reg.iloc[train_idx]).predict(X_train_reg.iloc[valid_idx])\n",
    "        )\n",
    "        for train_idx, valid_idx in kfold.split(X_train_reg)\n",
    "    ])\n",
    "\n",
    "    reg_rows.append([\n",
    "        name, mae, mse, rmse, r2, mape, mae_kf, mse_kf, rmse_kf, r2_kf, mape_kf\n",
    "    ])\n",
    "\n",
    "reg_df = pd.DataFrame(reg_rows, columns=[\n",
    "    \"Регрессор\",\n",
    "    \"Holdout_MAE\", \"Holdout_MSE\", \"Holdout_RMSE\", \"Holdout_R2\", \"Holdout_MAPE\",\n",
    "    \"KFold_MAE\", \"KFold_MSE\", \"KFold_RMSE\", \"KFold_R2\", \"KFold_MAPE\"\n",
    "])\n",
    "\n",
    "# === Вывод ===\n",
    "print(\"\\n=== Таблица классификаторов ===\")\n",
    "print(clf_df.round(4))\n",
    "\n",
    "print(\"\\n=== Таблица регрессоров ===\")\n",
    "print(reg_df.round(4))"
   ]
  },
  {
   "cell_type": "markdown",
   "id": "346e3f1e-a1f1-4748-8db4-f3cc0cb60a9e",
   "metadata": {},
   "source": [
    "# Вывод"
   ]
  },
  {
   "cell_type": "markdown",
   "id": "dbe890e6-4289-4057-a71c-7b84e54266d7",
   "metadata": {},
   "source": [
    "***Классификация***\n",
    "\n",
    "Все ансамблевые модели (Bagging, Stacking, GradientBoosting) и DecisionTree достигли идеального значения Accuracy = 1.0000, F1 = 0.9999, \n",
    "Precision = 0.9999.\n",
    "\n",
    "Лучшие Recall (0.9999) наблюдаются у Bagging и Stacking.\n",
    "\n",
    "Остальные модели также показывают отличные результаты, но уступают ансамблям.\n",
    "\n",
    "Лучшая модель по классификации:\n",
    "BaggingClassifier и StackingClassifier — абсолютно точные, стабильные по всем метрикам.\n",
    "\n"
   ]
  },
  {
   "cell_type": "markdown",
   "id": "a640f812-d73c-4f22-9527-b6387df6e744",
   "metadata": {},
   "source": [
    "***Регрессия***\n",
    "\n",
    "GradientBoosting дал лучший R2 = 0.8972 и наименьший MSE = 14.23e+9.\n",
    "\n",
    "Stacking дал наименьший MAPE = 0.1258, что делает его лидером по относительной ошибке.\n",
    "\n",
    "LightGBM дал наименьший MAE = 66690.34, что выгодно, если важна минимизация абсолютной ошибки.\n",
    "\n",
    "DecisionTree — худший результат по всем метрикам.\n",
    "\n",
    "Лучшая модель по регрессии:\n",
    "GradientBoostingRegressor — наиболее сбалансированная модель с лучшими R2 и MSE.\n",
    "StackingRegressor и LightGBM тоже сильны и могут быть выбраны в зависимости от приоритета (минимальный MAE или MAPE).\n"
   ]
  },
  {
   "cell_type": "markdown",
   "id": "094bd82c-a870-4819-9e47-c675db5ffc01",
   "metadata": {},
   "source": [
    "***Выбор между Holdout и K-Fold***\n",
    "\n",
    "1. Классификация\n",
    "\n",
    "Holdout\n",
    "\n",
    "Все топ-4 модели (DecisionTree, Bagging, GradientBoosting, Stacking) показывают идеальные метрики:\n",
    "Accuracy, F1, Precision, Recall\n",
    "\n",
    "1.0000 / 0.9999 / 0.9999 / 0.9998–0.9999\n",
    "\n",
    "\n",
    "K-Fold\n",
    "\n",
    "У этих же моделей показатели хуже:\n",
    "\n",
    "DecisionTree: F1 = 0.9639, Precision = 0.9500, Recall = 0.9790\n",
    "\n",
    "Bagging: F1 = 0.9803, Precision = 0.9944, Recall = 0.9675\n",
    "\n",
    "GradientBoosting: F1 = 0.9897, Precision = 0.9947, Recall = 0.9848\n",
    "\n",
    "Stacking: F1 = 0.9801, Precision = 0.9972, Recall = 0.9646\n",
    "\n",
    "**Заключение:**\n",
    "Holdout даёт слишком оптимистичную оценку.\n",
    "K-Fold показывает более реалистичную картину — даже у лучших моделей F1 < 0.99.\n",
    "\n",
    "Лучше использовать: K-Fold — он выявляет возможное переобучение, особенно у простых моделей (DecisionTree).\n",
    "\n",
    "\n",
    "\n",
    "2. Регрессия\n",
    "\n",
    "Holdout\n",
    "\n",
    "Лучшая модель по R²: GradientBoosting (R² = 0.8972, MAE = 69303, MAPE = 0.1324)\n",
    "\n",
    "Stacking, LightGBM и Bagging близки, но немного уступают\n",
    "\n",
    "\n",
    "K-Fold\n",
    "\n",
    "Те же модели показывают хуже R²:\n",
    "GradientBoosting: 0.8865\n",
    "Stacking: 0.8768\n",
    "LightGBM: 0.8907\n",
    "Bagging: 0.8725\n",
    "\n",
    "Разница в R² между Holdout и K-Fold — от 0.01 до 0.02, что не критично, но говорит о легкой переоценке качества в Holdout.\n",
    "\n",
    "***Заключение***:\n",
    "Обе стратегии дают схожий рейтинг моделей, но K-Fold снова честнее и стабильнее."
   ]
  },
  {
   "cell_type": "markdown",
   "id": "b64690fc-a5c3-4a6e-800c-4122c202cd88",
   "metadata": {},
   "source": [
    "estimators = [ ('dt', DecisionTreeClassifier(random_state=42)), ('rf', RandomForestClassifier(random_state=42)) ] добавить третью(свм или линейна)"
   ]
  }
 ],
 "metadata": {
  "kernelspec": {
   "display_name": "Python 3 (ipykernel)",
   "language": "python",
   "name": "python3"
  },
  "language_info": {
   "codemirror_mode": {
    "name": "ipython",
    "version": 3
   },
   "file_extension": ".py",
   "mimetype": "text/x-python",
   "name": "python",
   "nbconvert_exporter": "python",
   "pygments_lexer": "ipython3",
   "version": "3.11.3"
  }
 },
 "nbformat": 4,
 "nbformat_minor": 5
}
